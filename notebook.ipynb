{
 "cells": [
  {
   "cell_type": "code",
   "execution_count": 1,
   "id": "6d628a59",
   "metadata": {},
   "outputs": [],
   "source": [
    "import pandas as pd\n",
    "import json\n",
    "import requests\n",
    "import datetime\n",
    "import time\n",
    "import math\n",
    "from dateutil.relativedelta import relativedelta\n",
    "import base64\n",
    "from typing import Optional, Tuple"
   ]
  },
  {
   "cell_type": "code",
   "execution_count": 2,
   "id": "e6157001",
   "metadata": {},
   "outputs": [],
   "source": [
    "import os\n",
    "from dotenv import load_dotenv\n",
    "\n",
    "load_dotenv()\n",
    "kindred_bearer_token = os.environ.get('KINDRED_BEARER_TOKEN')\n",
    "openrouteservice_api_key = os.environ.get('OPEN_ROUTE_SERVICE_KEY')\n",
    "my_email = os.environ.get('EMAIL')"
   ]
  },
  {
   "cell_type": "code",
   "execution_count": 17,
   "id": "a2e127b9",
   "metadata": {},
   "outputs": [],
   "source": [
    "class _TokenBox:\n",
    "    \"\"\"Holds the current access token so it can be updated when refreshed.\"\"\"\n",
    "    def __init__(self, access_token: str):\n",
    "        self.access = access_token\n",
    "\n",
    "token_box = _TokenBox(kindred_bearer_token)\n",
    "\n",
    "def _build_headers() -> dict:\n",
    "    return {\n",
    "        \"accept\": \"*/*\",\n",
    "        \"content-type\": \"application/json\",\n",
    "        \"apollographql-client-name\": \"Web\",\n",
    "        \"apollographql-client-version\": \"1.929.3\",\n",
    "        \"authorization\": f\"Bearer {token_box.access}\",\n",
    "        \"origin\": \"https://livekindred.com\",\n",
    "        \"referer\": \"https://livekindred.com/\",\n",
    "        \"x-locale\": \"en\",\n",
    "    }\n",
    "\n",
    "# otp flow\n",
    "MUT_SEND_EMAIL = \"\"\"\n",
    "mutation sendMagicLinkOrOTP($email: String!, $path: String) {\n",
    "  startEmailLoginUser(email: $email, path: $path) {\n",
    "    mode\n",
    "    length\n",
    "  }\n",
    "}\n",
    "\"\"\"\n",
    "\n",
    "MUT_FINISH_EMAIL = \"\"\"\n",
    "mutation FinishEmailLoginUser($deviceId: String, $email: String!, $emailToken: String!) {\n",
    "  finishEmailLoginUser(deviceId: $deviceId, email: $email, emailToken: $emailToken) {\n",
    "    accessToken\n",
    "    refreshToken\n",
    "  }\n",
    "}\n",
    "\"\"\"\n",
    "\n",
    "def gql_noauth(operation_name: str, query: str, variables: dict):\n",
    "    \"\"\"Send a GraphQL request without Authorization (for login).\"\"\"\n",
    "    headers = {\n",
    "        \"content-type\": \"application/json\",\n",
    "        \"origin\": \"https://livekindred.com\",\n",
    "        \"referer\": \"https://livekindred.com/\",\n",
    "        \"apollographql-client-name\": \"Web\",\n",
    "        \"apollographql-client-version\": \"1.929.3\",\n",
    "        \"x-locale\": \"en\",\n",
    "    }\n",
    "    payload = {\"operationName\": operation_name, \"query\": query, \"variables\": variables}\n",
    "    r = requests.post(kindred_url, headers=headers, data=json.dumps(payload))\n",
    "    r.raise_for_status()\n",
    "    j = r.json()\n",
    "    if \"errors\" in j:\n",
    "        raise RuntimeError(json.dumps(j[\"errors\"], indent=2))\n",
    "    return j[\"data\"]\n",
    "\n",
    "\n",
    "def send_email_otp(email: str, path: str = \"/explore\") -> dict:\n",
    "    \"\"\"Triggers the OTP email.\"\"\"\n",
    "    data = gql_noauth(\"sendMagicLinkOrOTP\", MUT_SEND_EMAIL, {\"email\": email, \"path\": path})\n",
    "    return data[\"startEmailLoginUser\"]\n",
    "\n",
    "\n",
    "def finish_email_login(email: str, email_token: str, device_id=None):\n",
    "    \"\"\"Completes login with the OTP code and returns new tokens.\"\"\"\n",
    "    data = gql_noauth(\n",
    "        \"FinishEmailLoginUser\",\n",
    "        MUT_FINISH_EMAIL,\n",
    "        {\"deviceId\": device_id, \"email\": email, \"emailToken\": email_token},\n",
    "    )\n",
    "    return data[\"finishEmailLoginUser\"][\"accessToken\"], data[\"finishEmailLoginUser\"][\"refreshToken\"]\n",
    "\n",
    "\n",
    "def refresh_fn():\n",
    "    \"\"\"\n",
    "    Re-run the email OTP login flow to get a new access token.\n",
    "    This function will be called automatically by post_graphql() when auth fails.\n",
    "    \"\"\"\n",
    "    email = my_email\n",
    "    path = \"/explore\"\n",
    "    print(f\"\\nAccess token expired — sending new OTP to {email}...\")\n",
    "    meta = send_email_otp(email, path)\n",
    "    print(f\"Mode={meta['mode']}, expected length={meta['length']}\")\n",
    "    otp = input(\"Enter OTP from email: \").strip()\n",
    "    new_access, new_refresh = finish_email_login(email, otp)\n",
    "    print(\"New access token obtained.\")\n",
    "    return new_access"
   ]
  },
  {
   "cell_type": "markdown",
   "id": "30d8d8ed",
   "metadata": {},
   "source": [
    "# Ikon info"
   ]
  },
  {
   "cell_type": "code",
   "execution_count": 18,
   "id": "3d423fc7",
   "metadata": {},
   "outputs": [],
   "source": [
    "# csv created by chatgpt agent using epicorikon.com\n",
    "locations = pd.read_csv('resort_locations_20256.csv')\n",
    "locations.columns = locations.columns.str.lower()\n",
    "locations.rename(columns={'resortregion': 'region'\n",
    "    , 'stateorprovince': 'state'\n",
    "    , 'skiableacres': 'skiable_acres'\n",
    "    , 'verticaldrop': 'vertical_drop'\n",
    "    , 'annualsnowfall': 'annual_snowfall'}, inplace=True)"
   ]
  },
  {
   "cell_type": "markdown",
   "id": "d217aa4c",
   "metadata": {},
   "source": [
    "# Drive time"
   ]
  },
  {
   "cell_type": "code",
   "execution_count": 19,
   "id": "25ccea76",
   "metadata": {},
   "outputs": [],
   "source": [
    "headers = {\n",
    "    'Accept': 'application/json, application/geo+json, application/gpx+xml, img/png; charset=utf-8',\n",
    "    'api_key': openrouteservice_api_key,\n",
    "    'Content-Type': 'application/json; charset=utf-8'\n",
    "}"
   ]
  },
  {
   "cell_type": "code",
   "execution_count": 20,
   "id": "c1d73c70",
   "metadata": {},
   "outputs": [],
   "source": [
    "def get_driving_time(resort_lat, resort_lon, house_lat, house_lon):\n",
    "    \n",
    "    coordinates = {\"coordinates\":[[house_lon,house_lat],[resort_lon,resort_lat]]}\n",
    "    directions_url = 'https://api.openrouteservice.org/v2/directions/driving-car'\n",
    "    directions_url_and_key = directions_url + '?api_key=' + openrouteservice_api_key\n",
    "    call = requests.post(directions_url_and_key, json=coordinates, headers=headers)\n",
    "    \n",
    "    return call.json()['routes'][0]['summary']['duration'] / 60\n",
    "\n",
    "def safe_get_driving_time(resort_lat, resort_lon, house_lat, house_lon):\n",
    "        try:\n",
    "            return get_driving_time(resort_lat, resort_lon, house_lat, house_lon)\n",
    "        except KeyError as e:\n",
    "            if str(e) == \"'routes'\":\n",
    "                return None\n",
    "            else:\n",
    "                raise\n",
    "        except Exception:\n",
    "            return None"
   ]
  },
  {
   "cell_type": "markdown",
   "id": "911d6018",
   "metadata": {},
   "source": [
    "# Kindred info"
   ]
  },
  {
   "cell_type": "code",
   "execution_count": 21,
   "id": "07e8c277",
   "metadata": {},
   "outputs": [],
   "source": [
    "kindred_url = \"https://app.livekindred.com/api/graphql\""
   ]
  },
  {
   "cell_type": "code",
   "execution_count": 22,
   "id": "31c5a6d9",
   "metadata": {},
   "outputs": [],
   "source": [
    "def post_graphql(operation_name: str, query: str, variables: dict, refresh_fn=refresh_fn):\n",
    "    \"\"\"\n",
    "    Posts a GraphQL query/mutation. If auth fails (401/403 or GraphQL UNAUTHENTICATED),\n",
    "    refreshes the access token using refresh_fn() and retries once.\n",
    "    \"\"\"\n",
    "    payload = {\"operationName\": operation_name, \"query\": query, \"variables\": variables or {}}\n",
    "\n",
    "    def _do():\n",
    "        return requests.post(kindred_url, headers=_build_headers(), data=json.dumps(payload))\n",
    "\n",
    "    r = _do()\n",
    "\n",
    "    # HTTP auth errors → refresh\n",
    "    if r.status_code in (401, 403):\n",
    "        token_box.access = refresh_fn()\n",
    "        r = _do()\n",
    "\n",
    "    def parse(resp):\n",
    "        try:\n",
    "            d = resp.json()\n",
    "        except ValueError:\n",
    "            return None, None\n",
    "        return d, d.get(\"errors\")\n",
    "\n",
    "    data, errs = parse(r)\n",
    "\n",
    "    # If HTTP error, check GraphQL errors first\n",
    "    if r.status_code >= 400:\n",
    "        if errs and any((e.get(\"extensions\") or {}).get(\"code\") == \"UNAUTHENTICATED\" for e in errs):\n",
    "            token_box.access = refresh_fn()\n",
    "            r = _do()\n",
    "            data, errs = parse(r)\n",
    "            if r.status_code >= 400:\n",
    "                r.raise_for_status()\n",
    "            if errs:\n",
    "                raise RuntimeError(json.dumps(errs, indent=2))\n",
    "            return data[\"data\"]\n",
    "        if errs:\n",
    "            raise RuntimeError(json.dumps(errs, indent=2))\n",
    "        r.raise_for_status()\n",
    "\n",
    "    # Success status but GraphQL UNAUTHENTICATED\n",
    "    if errs:\n",
    "        if any((e.get(\"extensions\") or {}).get(\"code\") == \"UNAUTHENTICATED\" for e in errs):\n",
    "            token_box.access = refresh_fn()\n",
    "            r = _do()\n",
    "            data, errs = parse(r)\n",
    "            if errs:\n",
    "                raise RuntimeError(json.dumps(errs, indent=2))\n",
    "            return data[\"data\"]\n",
    "        raise RuntimeError(json.dumps(errs, indent=2))\n",
    "\n",
    "    return data[\"data\"]"
   ]
  },
  {
   "cell_type": "code",
   "execution_count": 23,
   "id": "2267c98b",
   "metadata": {},
   "outputs": [],
   "source": [
    "query_explore_list = \"\"\"\n",
    "query exploreList($filter: FlexibleSearchFilter!, $pagination: Pagination!, $sortedAt: Date!, $width: Int!, $avatarWidth: Int!) {\n",
    "  getHomesWithSearchCriteria(filter: $filter, pagination: $pagination, sortedAt: $sortedAt) {\n",
    "    page\n",
    "    hasMore\n",
    "    didFindPerfectMatches\n",
    "    homeRecs {\n",
    "      home {\n",
    "        ...HomeCardData\n",
    "      }\n",
    "      matchingStatus { ...SearchResultScore }\n",
    "      household { ...SearchHousehold }\n",
    "    }\n",
    "  }\n",
    "}\n",
    "\n",
    "fragment HomeCardData on Home {\n",
    "  id\n",
    "  status\n",
    "  destination { id name region }\n",
    "  media { url thumbnailUrl(width: $width) }\n",
    "  title\n",
    "  titleV2 { translation originalLanguage }\n",
    "  availabilitiesWithoutBookedDates { ...HomeAvailability }\n",
    "  swapAvailabilitiesV2 { ...SwapAvailabilities }\n",
    "  isFavorite\n",
    "  homeProfileProgress\n",
    "  maxGuestsLimit\n",
    "  workspacesCount\n",
    "  bathrooms\n",
    "  bedroomsCount\n",
    "  bedsCount\n",
    "  petPreference\n",
    "  petHostingDetails\n",
    "  lat\n",
    "  lon\n",
    "  preSelect { ...PreSelectDates }\n",
    "  swapQuality\n",
    "  owner { id displayName isOpenForInquiry }\n",
    "  swapAvailabilitiesV2 { destinationIds destinationNames }\n",
    "  excludeHomeMediaFromMarketing\n",
    "  pricingPreview { ...PublicPreviewPricing }\n",
    "  restrictionReasons\n",
    "}\n",
    "\n",
    "fragment HomeAvailability on HomeAvailability { id homeId startDate endDate }\n",
    "fragment SwapAvailabilities on HomeSwapAvailability {\n",
    "  id swapAvailabilityId start end tripLengthsV2 minimumNights dateRanges\n",
    "  destinationIds destinationNames destinationName travelPlanId\n",
    "  travelPlan {\n",
    "    tripTypes { ...HomeTripType }\n",
    "    minBedrooms minBathrooms minBeds totalGuests\n",
    "    homeFilters { ...HomeFilters }\n",
    "  }\n",
    "  swapDestination { name }\n",
    "}\n",
    "fragment HomeTripType on HomeTripType { name displayName photoUrl }\n",
    "fragment HomeFilters on HomeFilter {\n",
    "  ... on AmenityFilter { __typename amenity enabled }\n",
    "  ... on PetPreferenceFilter { __typename petPreference enabled }\n",
    "  ... on BedTypeFilter { __typename bed enabled }\n",
    "  ... on CompositeHomeFilter { __typename compositeFilter enabled }\n",
    "}\n",
    "fragment PreSelectDates on PreSelect { dateRange isSwap }\n",
    "fragment PublicPreviewPricing on PricingPreviewPublic {\n",
    "  fees { ...TripPricingFee }\n",
    "  totalMoney { ...TripMoneyDisplay }\n",
    "  moneyPerNight { ...TripMoneyDisplay }\n",
    "  credit { totalCredits }\n",
    "  pricingComparison { totalMoney { amount currency } moneyPerNight { ...TripMoneyDisplay } totalNights }\n",
    "}\n",
    "fragment TripPricingFee on PricingFee { type total { amount currency } }\n",
    "fragment TripMoneyDisplay on MoneyDisplay { amount currency displayString }\n",
    "fragment SearchResultScore on MatchingResult {\n",
    "  alternateDates alternateLocation lessBedrooms lessWorkstations lessBeds lessHomeCapacity noPetsAllowed needPetsFriendlyHomeOtherSide score\n",
    "}\n",
    "fragment SearchHousehold on BaseHouseholdProfile {\n",
    "  id\n",
    "  primaryResident { displayName image { url(width: $avatarWidth) } }\n",
    "  householdImages { url(width: $avatarWidth) }\n",
    "}\n",
    "\"\"\""
   ]
  },
  {
   "cell_type": "code",
   "execution_count": 24,
   "id": "3185b4c9",
   "metadata": {},
   "outputs": [],
   "source": [
    "def make_polygon(lat, lon, distance_miles):\n",
    "    \"\"\"\n",
    "    Creates an octagonal polygon around (lat, lon) with approximately\n",
    "    'distance_miles' as the distance from center to each vertex,\n",
    "    correcting for Earth's curvature so the octagon is roughly equilateral\n",
    "    (i.e., not stretched at higher latitudes).\n",
    "    \"\"\"\n",
    "\n",
    "    lat_rad = math.radians(lat)\n",
    "    miles_per_lat = 69.0 # one degree latitude is ~69 miles (everywhere)\n",
    "    miles_per_lon = 69.172 * math.cos(lat_rad) # one degree longitude is 69.172 * cos(latitude)\n",
    "\n",
    "    # angles for the 8 directions\n",
    "    directions_deg = [90, 45, 0, 315, 270, 225, 180, 135]\n",
    "    polygon = []\n",
    "    for angle in directions_deg:\n",
    "        angle_rad = math.radians(angle)\n",
    "        d_lat = (distance_miles * math.sin(angle_rad)) / miles_per_lat\n",
    "        d_lon = (distance_miles * math.cos(angle_rad)) / miles_per_lon\n",
    "        point = {\n",
    "            \"lat\": lat + d_lat,\n",
    "            \"lon\": lon + d_lon,\n",
    "        }\n",
    "        polygon.append(point)\n",
    "    return polygon\n",
    "\n",
    "def to_iso_date_range(start_date, end_date):\n",
    "    \"\"\"\n",
    "    Accepts string or datetime for start_date and end_date.\n",
    "    Returns [start_iso, end_iso] with format: \"%Y-%m-%dT%H:%M:%S.000Z\".\n",
    "    \"\"\"\n",
    "    from datetime import datetime\n",
    "\n",
    "    iso_format = \"%Y-%m-%dT%H:%M:%S.000Z\"\n",
    "\n",
    "    def ensure_dt(d):\n",
    "        if isinstance(d, str):\n",
    "            return datetime.strptime(d, \"%Y-%m-%d\")\n",
    "        return d\n",
    "\n",
    "    dt_start = ensure_dt(start_date)\n",
    "    dt_end = ensure_dt(end_date)\n",
    "\n",
    "    return [dt_start.strftime(iso_format), dt_end.strftime(iso_format)]\n",
    "\n",
    "def make_monthly_date_ranges(start_date, end_date, date_format=\"%Y-%m-%d\"):\n",
    "    \"\"\"\n",
    "    Returns a list of one-month date ranges between start_date and end_date, in ISO format.\n",
    "    \"\"\"\n",
    "    from dateutil.relativedelta import relativedelta\n",
    "    from datetime import datetime\n",
    "\n",
    "    current_date = datetime.strptime(start_date, date_format)\n",
    "    end_date_dt = datetime.strptime(end_date, date_format)\n",
    "\n",
    "    date_ranges = []\n",
    "    while current_date < end_date_dt:\n",
    "        next_month = current_date + relativedelta(months=1)\n",
    "        range_end = min(next_month, end_date_dt)\n",
    "        date_ranges.append(to_iso_date_range(current_date, range_end))\n",
    "        current_date = range_end\n",
    "    return date_ranges\n"
   ]
  },
  {
   "cell_type": "code",
   "execution_count": 31,
   "id": "3542c91e",
   "metadata": {},
   "outputs": [],
   "source": [
    "def explore_map_once(polygon, date_range, date_type='flexible', min_nights=0, page=0, page_size=50):\n",
    "    if date_type == 'exact':\n",
    "        trip_type = \"EXACT_DATES\"\n",
    "    else:\n",
    "        trip_type = \"MINIMUM_NIGHTS\"\n",
    "\n",
    "    variables = {\n",
    "        \"filter\": {\n",
    "            \"tripLengthsV2\": [trip_type],\n",
    "            **({\"minimumNights\": min_nights} if date_type == 'flexible' else {}),\n",
    "            \"dateRanges\": date_range,\n",
    "            \"includeCloseDates\": False,\n",
    "            \"isFavoriteHomesOnly\": False,\n",
    "            \"onboardingSort\": False,\n",
    "            \"polygon\": polygon,\n",
    "            \"matchTypes\": [\"SWAP\", \"AVAILABILITY\"],\n",
    "            \"minBedrooms\": 0,\n",
    "            \"minBathrooms\": 0,\n",
    "            \"minBeds\": 0,\n",
    "            \"totalGuests\": 0,\n",
    "            \"filterInput\": {\n",
    "                \"amenityFilters\": [],\n",
    "                \"bedTypeFilters\": [],\n",
    "                \"compositeFilters\": [],\n",
    "                \"petPreferences\": []\n",
    "            }\n",
    "        },\n",
    "        \"pagination\": {\"page\": page, \"pageSize\": page_size},\n",
    "        \"sortedAt\": datetime.datetime.now(datetime.UTC).isoformat().replace(\"+00:00\", \"Z\"),\n",
    "        \"width\": 720,\n",
    "        \"avatarWidth\": 90\n",
    "    }\n",
    "    return variables"
   ]
  },
  {
   "cell_type": "code",
   "execution_count": 32,
   "id": "60bc5034",
   "metadata": {},
   "outputs": [],
   "source": [
    "def explore_map_multiple(\n",
    "    lat,\n",
    "    lon,\n",
    "    distance_miles,\n",
    "    date_range,\n",
    "    date_type,\n",
    "    min_nights=0,\n",
    "    page_size=50\n",
    "):\n",
    "    \n",
    "    sorted_at = datetime.datetime.now(datetime.UTC).isoformat(timespec='milliseconds').replace(\"+00:00\", \"Z\")\n",
    "    all_rows = []\n",
    "    page = 0\n",
    "    \n",
    "    polygon = make_polygon(lat, lon, distance_miles)\n",
    "    \n",
    "    if date_type == 'flexible':\n",
    "        formatted_date_range = make_monthly_date_ranges(date_range[0], date_range[1])\n",
    "    else:\n",
    "        formatted_date_range = [to_iso_date_range(date_range[0], date_range[1])]\n",
    "\n",
    "    while True:\n",
    "        vars_page = explore_map_once(\n",
    "            polygon,\n",
    "            formatted_date_range,\n",
    "            date_type=date_type,\n",
    "            min_nights=min_nights,\n",
    "            page=page,\n",
    "            page_size=page_size\n",
    "        )\n",
    "\n",
    "        vars_page[\"sortedAt\"] = sorted_at  # keep stable per crawl\n",
    "\n",
    "        data = post_graphql(\"exploreList\", query_explore_list, vars_page)\n",
    "\n",
    "        res = data[\"getHomesWithSearchCriteria\"]\n",
    "\n",
    "        for rec in res.get(\"homeRecs\", []):\n",
    "            h = rec[\"home\"]\n",
    "            all_rows.append({\n",
    "                \"id\": h.get(\"id\"),\n",
    "                \"homeId\": h.get(\"id\"),\n",
    "                \"title\": h.get(\"title\"),\n",
    "                \"destination\": (h.get(\"destination\") or {}).get(\"name\"),\n",
    "                \"lat\": h.get(\"lat\"),\n",
    "                \"lon\": h.get(\"lon\"),\n",
    "                \"availabilitiesWithoutBookedDates\": h.get(\"availabilitiesWithoutBookedDates\", []),\n",
    "                \"maxGuestsLimit\": h.get(\"maxGuestsLimit\"),\n",
    "                \"petPreference\": h.get(\"petPreference\"),\n",
    "            })\n",
    "    \n",
    "        if not res.get(\"hasMore\"):\n",
    "            break\n",
    "        \n",
    "        page += 1\n",
    "        time.sleep(0.4)  # be polite\n",
    "\n",
    "    return all_rows\n",
    "\n",
    "def format_results(results):\n",
    "    results_df = pd.DataFrame(results)\n",
    "    \n",
    "    # add error handling for missing 'availabilitiesWithoutBookedDates'\n",
    "    if 'availabilitiesWithoutBookedDates' not in results_df.columns:\n",
    "        results_df['availabilitiesWithoutBookedDates'] = [[] for _ in range(len(results_df))]\n",
    "    \n",
    "    results_df['availabilitiesWithoutBookedDates'] = results_df['availabilitiesWithoutBookedDates'].apply(\n",
    "        lambda avails: [{'start': av['startDate'], 'end': av['endDate']} for av in avails] if avails else []\n",
    "    )\n",
    "\n",
    "    # clickable url based on homeId\n",
    "    if 'homeId' in results_df.columns:\n",
    "        results_df['home_url'] = results_df['homeId'].apply(lambda id: f'https://livekindred.com/home/{id}')\n",
    "    else:\n",
    "        results_df['home_url'] = None\n",
    "\n",
    "    results_df.rename(\n",
    "        columns={\n",
    "            'homeId': 'home_id',\n",
    "            'maxGuestsLimit': 'guests',\n",
    "            'petPreference': 'pet_preference',\n",
    "            'availabilitiesWithoutBookedDates': 'availabilities',\n",
    "            'lat': 'latitude',\n",
    "            'lon': 'longitude'\n",
    "        },\n",
    "        inplace=True\n",
    "    )\n",
    "\n",
    "    return results_df\n"
   ]
  },
  {
   "cell_type": "markdown",
   "id": "f6388919",
   "metadata": {},
   "source": [
    "# Put it all together"
   ]
  },
  {
   "cell_type": "code",
   "execution_count": 27,
   "id": "0cb85814",
   "metadata": {},
   "outputs": [],
   "source": [
    "def resort_map_multiple(\n",
    "    resort_df,\n",
    "    date_range,\n",
    "    date_type='flexible',\n",
    "    mile_range=35,\n",
    "    page_size=50,\n",
    "    min_nights=0\n",
    "):\n",
    "    \"\"\"\n",
    "    Given a dataframe of resorts and a date range, returns a dataframe of Kindredhomes near the resorts.\n",
    "    Add a column for the driving time to the resorts.\n",
    "\n",
    "    Parameters:\n",
    "        resort_df (pd.DataFrame): DataFrame of resorts with 'latitude', 'longitude', 'resort', 'state' columns.\n",
    "        date_range (list or tuple): [start_date, end_date] as strings, e.g. ['2026-01-17', '2026-01-19'].\n",
    "        mile_range (int, optional): Search \"radius\" in miles. Not a true radius since the search range is a square (corners will be farther than mile_range).Default is 35.\n",
    "        page_size (int, optional): Number of results per API page. Default is 50.\n",
    "        min_nights (int, optional): Minimum number of nights for stay. Default is 0.\n",
    "    \"\"\"\n",
    "    \n",
    "    results_full = pd.DataFrame()\n",
    "\n",
    "    for idx, row in resort_df.iterrows():\n",
    "        current_time = datetime.datetime.now()\n",
    "        \n",
    "        results = explore_map_multiple(\n",
    "            lat=row['latitude'],\n",
    "            lon=row['longitude'],\n",
    "            distance_miles=mile_range,\n",
    "            date_range=date_range,\n",
    "            date_type=date_type,\n",
    "            min_nights=min_nights,\n",
    "            page_size=page_size\n",
    "        )\n",
    "        \n",
    "        results_df = format_results(results)\n",
    "        results_df['resort'] = row['resort']\n",
    "        results_df['state'] = row['state']\n",
    "        results_df['region'] = row['region']\n",
    "        results_df['resort_lat'] = row['latitude']\n",
    "        results_df['resort_lon'] = row['longitude']\n",
    "        \n",
    "        results_full = pd.concat([results_full, results_df])\n",
    "    \n",
    "        time_elapsed = datetime.datetime.now() - current_time\n",
    "        print(f\"Found {len(results_df)} houses near {row.get('resort', idx)} in {time_elapsed}\")\n",
    "\n",
    "    results_full['driving_time_minutes'] = results_full.apply(\n",
    "        lambda row: safe_get_driving_time(row['resort_lat'], row['resort_lon'], row['latitude'], row['longitude']),\n",
    "        axis=1\n",
    "    )\n",
    "    \n",
    "    if results_full.empty:\n",
    "        print(\"No homes found for any resort. Try adjusting your date range, mile range, or check your data.\")\n",
    "\n",
    "    return results_full.sort_values(by='driving_time_minutes')"
   ]
  },
  {
   "cell_type": "markdown",
   "id": "868f5dda",
   "metadata": {},
   "source": [
    "# Using it"
   ]
  },
  {
   "cell_type": "code",
   "execution_count": 28,
   "id": "b9e74e50",
   "metadata": {},
   "outputs": [],
   "source": [
    "northeast_locations = locations[locations['region'] == 'Northeast']"
   ]
  },
  {
   "cell_type": "code",
   "execution_count": null,
   "id": "9b71a7f8",
   "metadata": {},
   "outputs": [
    {
     "name": "stdout",
     "output_type": "stream",
     "text": [
      "Found 1 houses near Cranmore in 0:00:00.405283\n",
      "Found 0 houses near Jiminy Peak in 0:00:00.195873\n",
      "Found 3 houses near Killington in 0:00:00.330239\n",
      "Found 0 houses near Le Massif de Charlevoix in 0:00:00.365766\n",
      "Found 2 houses near Loon Mountain in 0:00:00.329328\n",
      "Found 3 houses near Pico in 0:00:00.373094\n",
      "Found 2 houses near Stratton in 0:00:00.247318\n",
      "Found 5 houses near Sugarbush in 0:00:00.322137\n",
      "Found 0 houses near Sugarloaf in 0:00:00.277430\n",
      "Found 0 houses near Sunday River in 0:00:00.201427\n",
      "Found 0 houses near Tremblant in 0:00:00.206885\n"
     ]
    }
   ],
   "source": [
    "northeast_results = resort_map_multiple(northeast_locations, ['2026-01-17', '2026-01-19'], mile_range=60)"
   ]
  },
  {
   "cell_type": "code",
   "execution_count": null,
   "id": "f69ba75d",
   "metadata": {},
   "outputs": [
    {
     "data": {
      "text/html": [
       "<div>\n",
       "<style scoped>\n",
       "    .dataframe tbody tr th:only-of-type {\n",
       "        vertical-align: middle;\n",
       "    }\n",
       "\n",
       "    .dataframe tbody tr th {\n",
       "        vertical-align: top;\n",
       "    }\n",
       "\n",
       "    .dataframe thead th {\n",
       "        text-align: right;\n",
       "    }\n",
       "</style>\n",
       "<table border=\"1\" class=\"dataframe\">\n",
       "  <thead>\n",
       "    <tr style=\"text-align: right;\">\n",
       "      <th></th>\n",
       "      <th>id</th>\n",
       "      <th>home_id</th>\n",
       "      <th>title</th>\n",
       "      <th>destination</th>\n",
       "      <th>latitude</th>\n",
       "      <th>longitude</th>\n",
       "      <th>availabilities</th>\n",
       "      <th>guests</th>\n",
       "      <th>pet_preference</th>\n",
       "      <th>home_url</th>\n",
       "      <th>resort</th>\n",
       "      <th>state</th>\n",
       "      <th>region</th>\n",
       "      <th>resort_lat</th>\n",
       "      <th>resort_lon</th>\n",
       "      <th>driving_time_minutes</th>\n",
       "    </tr>\n",
       "  </thead>\n",
       "  <tbody>\n",
       "    <tr>\n",
       "      <th>0</th>\n",
       "      <td>clqeh23du00pykv3ckajh3kgy</td>\n",
       "      <td>clqeh23du00pykv3ckajh3kgy</td>\n",
       "      <td>Peaceful &amp; Sunny Lakeside Condo</td>\n",
       "      <td>Meredith</td>\n",
       "      <td>43.656831</td>\n",
       "      <td>-71.489985</td>\n",
       "      <td>[{'start': '2025-10-20', 'end': '2026-04-30'}]</td>\n",
       "      <td>4.0</td>\n",
       "      <td>NO</td>\n",
       "      <td>https://livekindred.com/home/clqeh23du00pykv3ckajh3kgy</td>\n",
       "      <td>Loon Mountain</td>\n",
       "      <td>New Hampshire</td>\n",
       "      <td>Northeast</td>\n",
       "      <td>44.05644</td>\n",
       "      <td>-71.63545</td>\n",
       "      <td>56.203333</td>\n",
       "    </tr>\n",
       "    <tr>\n",
       "      <th>3</th>\n",
       "      <td>cm6r9bhw62mby2aouhdo3c582</td>\n",
       "      <td>cm6r9bhw62mby2aouhdo3c582</td>\n",
       "      <td>Welcome to our lakeside retreat with sauna.</td>\n",
       "      <td>Hinesburg</td>\n",
       "      <td>44.352431</td>\n",
       "      <td>-73.084339</td>\n",
       "      <td>[{'start': '2026-01-06', 'end': '2026-03-31'}]</td>\n",
       "      <td>6.0</td>\n",
       "      <td>MAYBE</td>\n",
       "      <td>https://livekindred.com/home/cm6r9bhw62mby2aouhdo3c582</td>\n",
       "      <td>Sugarbush</td>\n",
       "      <td>Vermont</td>\n",
       "      <td>Northeast</td>\n",
       "      <td>44.13526</td>\n",
       "      <td>-72.89562</td>\n",
       "      <td>61.728333</td>\n",
       "    </tr>\n",
       "    <tr>\n",
       "      <th>1</th>\n",
       "      <td>cmalrshzs0cog8s4reg2e4160</td>\n",
       "      <td>cmalrshzs0cog8s4reg2e4160</td>\n",
       "      <td>Rustic Vermont Farm Stay - Birch House</td>\n",
       "      <td>Wells</td>\n",
       "      <td>43.429798</td>\n",
       "      <td>-73.130898</td>\n",
       "      <td>[{'start': '2026-01-06', 'end': '2026-04-30'}]</td>\n",
       "      <td>2.0</td>\n",
       "      <td>NO</td>\n",
       "      <td>https://livekindred.com/home/cmalrshzs0cog8s4reg2e4160</td>\n",
       "      <td>Pico</td>\n",
       "      <td>Vermont</td>\n",
       "      <td>Northeast</td>\n",
       "      <td>43.66180</td>\n",
       "      <td>-72.84333</td>\n",
       "      <td>65.005000</td>\n",
       "    </tr>\n",
       "    <tr>\n",
       "      <th>0</th>\n",
       "      <td>cmg9ymoos007jm22aom4je9d0</td>\n",
       "      <td>cmg9ymoos007jm22aom4je9d0</td>\n",
       "      <td>Rustic Vermont Farm Stay - Shady Grove</td>\n",
       "      <td>Wells</td>\n",
       "      <td>43.433398</td>\n",
       "      <td>-73.131573</td>\n",
       "      <td>[{'start': '2026-01-06', 'end': '2026-04-30'}]</td>\n",
       "      <td>2.0</td>\n",
       "      <td>NO</td>\n",
       "      <td>https://livekindred.com/home/cmg9ymoos007jm22aom4je9d0</td>\n",
       "      <td>Pico</td>\n",
       "      <td>Vermont</td>\n",
       "      <td>Northeast</td>\n",
       "      <td>43.66180</td>\n",
       "      <td>-72.84333</td>\n",
       "      <td>66.096667</td>\n",
       "    </tr>\n",
       "    <tr>\n",
       "      <th>1</th>\n",
       "      <td>cmalrshzs0cog8s4reg2e4160</td>\n",
       "      <td>cmalrshzs0cog8s4reg2e4160</td>\n",
       "      <td>Rustic Vermont Farm Stay - Birch House</td>\n",
       "      <td>Wells</td>\n",
       "      <td>43.429798</td>\n",
       "      <td>-73.130898</td>\n",
       "      <td>[{'start': '2026-01-06', 'end': '2026-04-30'}]</td>\n",
       "      <td>2.0</td>\n",
       "      <td>NO</td>\n",
       "      <td>https://livekindred.com/home/cmalrshzs0cog8s4reg2e4160</td>\n",
       "      <td>Killington</td>\n",
       "      <td>Vermont</td>\n",
       "      <td>Northeast</td>\n",
       "      <td>43.62573</td>\n",
       "      <td>-72.79827</td>\n",
       "      <td>73.528333</td>\n",
       "    </tr>\n",
       "    <tr>\n",
       "      <th>0</th>\n",
       "      <td>cmg9ymoos007jm22aom4je9d0</td>\n",
       "      <td>cmg9ymoos007jm22aom4je9d0</td>\n",
       "      <td>Rustic Vermont Farm Stay - Shady Grove</td>\n",
       "      <td>Wells</td>\n",
       "      <td>43.433398</td>\n",
       "      <td>-73.131573</td>\n",
       "      <td>[{'start': '2026-01-06', 'end': '2026-04-30'}]</td>\n",
       "      <td>2.0</td>\n",
       "      <td>NO</td>\n",
       "      <td>https://livekindred.com/home/cmg9ymoos007jm22aom4je9d0</td>\n",
       "      <td>Killington</td>\n",
       "      <td>Vermont</td>\n",
       "      <td>Northeast</td>\n",
       "      <td>43.62573</td>\n",
       "      <td>-72.79827</td>\n",
       "      <td>74.620000</td>\n",
       "    </tr>\n",
       "    <tr>\n",
       "      <th>0</th>\n",
       "      <td>clqeh23du00pykv3ckajh3kgy</td>\n",
       "      <td>clqeh23du00pykv3ckajh3kgy</td>\n",
       "      <td>Peaceful &amp; Sunny Lakeside Condo</td>\n",
       "      <td>Meredith</td>\n",
       "      <td>43.656831</td>\n",
       "      <td>-71.489985</td>\n",
       "      <td>[{'start': '2025-10-20', 'end': '2026-04-30'}]</td>\n",
       "      <td>4.0</td>\n",
       "      <td>NO</td>\n",
       "      <td>https://livekindred.com/home/clqeh23du00pykv3ckajh3kgy</td>\n",
       "      <td>Cranmore</td>\n",
       "      <td>New Hampshire</td>\n",
       "      <td>Northeast</td>\n",
       "      <td>44.05638</td>\n",
       "      <td>-71.11078</td>\n",
       "      <td>78.461667</td>\n",
       "    </tr>\n",
       "    <tr>\n",
       "      <th>1</th>\n",
       "      <td>cmalrshzs0cog8s4reg2e4160</td>\n",
       "      <td>cmalrshzs0cog8s4reg2e4160</td>\n",
       "      <td>Rustic Vermont Farm Stay - Birch House</td>\n",
       "      <td>Wells</td>\n",
       "      <td>43.429798</td>\n",
       "      <td>-73.130898</td>\n",
       "      <td>[{'start': '2026-01-06', 'end': '2026-04-30'}]</td>\n",
       "      <td>2.0</td>\n",
       "      <td>NO</td>\n",
       "      <td>https://livekindred.com/home/cmalrshzs0cog8s4reg2e4160</td>\n",
       "      <td>Stratton</td>\n",
       "      <td>Vermont</td>\n",
       "      <td>Northeast</td>\n",
       "      <td>43.11342</td>\n",
       "      <td>-72.91032</td>\n",
       "      <td>79.236667</td>\n",
       "    </tr>\n",
       "    <tr>\n",
       "      <th>0</th>\n",
       "      <td>cmg9ymoos007jm22aom4je9d0</td>\n",
       "      <td>cmg9ymoos007jm22aom4je9d0</td>\n",
       "      <td>Rustic Vermont Farm Stay - Shady Grove</td>\n",
       "      <td>Wells</td>\n",
       "      <td>43.433398</td>\n",
       "      <td>-73.131573</td>\n",
       "      <td>[{'start': '2026-01-06', 'end': '2026-04-30'}]</td>\n",
       "      <td>2.0</td>\n",
       "      <td>NO</td>\n",
       "      <td>https://livekindred.com/home/cmg9ymoos007jm22aom4je9d0</td>\n",
       "      <td>Stratton</td>\n",
       "      <td>Vermont</td>\n",
       "      <td>Northeast</td>\n",
       "      <td>43.11342</td>\n",
       "      <td>-72.91032</td>\n",
       "      <td>80.328333</td>\n",
       "    </tr>\n",
       "    <tr>\n",
       "      <th>2</th>\n",
       "      <td>cm6r9bhw62mby2aouhdo3c582</td>\n",
       "      <td>cm6r9bhw62mby2aouhdo3c582</td>\n",
       "      <td>Welcome to our lakeside retreat with sauna.</td>\n",
       "      <td>Hinesburg</td>\n",
       "      <td>44.352431</td>\n",
       "      <td>-73.084339</td>\n",
       "      <td>[{'start': '2026-01-06', 'end': '2026-03-31'}]</td>\n",
       "      <td>6.0</td>\n",
       "      <td>MAYBE</td>\n",
       "      <td>https://livekindred.com/home/cm6r9bhw62mby2aouhdo3c582</td>\n",
       "      <td>Pico</td>\n",
       "      <td>Vermont</td>\n",
       "      <td>Northeast</td>\n",
       "      <td>43.66180</td>\n",
       "      <td>-72.84333</td>\n",
       "      <td>108.841667</td>\n",
       "    </tr>\n",
       "  </tbody>\n",
       "</table>\n",
       "</div>"
      ],
      "text/plain": [
       "                          id                    home_id  \\\n",
       "0  clqeh23du00pykv3ckajh3kgy  clqeh23du00pykv3ckajh3kgy   \n",
       "3  cm6r9bhw62mby2aouhdo3c582  cm6r9bhw62mby2aouhdo3c582   \n",
       "1  cmalrshzs0cog8s4reg2e4160  cmalrshzs0cog8s4reg2e4160   \n",
       "0  cmg9ymoos007jm22aom4je9d0  cmg9ymoos007jm22aom4je9d0   \n",
       "1  cmalrshzs0cog8s4reg2e4160  cmalrshzs0cog8s4reg2e4160   \n",
       "0  cmg9ymoos007jm22aom4je9d0  cmg9ymoos007jm22aom4je9d0   \n",
       "0  clqeh23du00pykv3ckajh3kgy  clqeh23du00pykv3ckajh3kgy   \n",
       "1  cmalrshzs0cog8s4reg2e4160  cmalrshzs0cog8s4reg2e4160   \n",
       "0  cmg9ymoos007jm22aom4je9d0  cmg9ymoos007jm22aom4je9d0   \n",
       "2  cm6r9bhw62mby2aouhdo3c582  cm6r9bhw62mby2aouhdo3c582   \n",
       "\n",
       "                                         title destination   latitude  \\\n",
       "0              Peaceful & Sunny Lakeside Condo    Meredith  43.656831   \n",
       "3  Welcome to our lakeside retreat with sauna.   Hinesburg  44.352431   \n",
       "1       Rustic Vermont Farm Stay - Birch House       Wells  43.429798   \n",
       "0       Rustic Vermont Farm Stay - Shady Grove       Wells  43.433398   \n",
       "1       Rustic Vermont Farm Stay - Birch House       Wells  43.429798   \n",
       "0       Rustic Vermont Farm Stay - Shady Grove       Wells  43.433398   \n",
       "0              Peaceful & Sunny Lakeside Condo    Meredith  43.656831   \n",
       "1       Rustic Vermont Farm Stay - Birch House       Wells  43.429798   \n",
       "0       Rustic Vermont Farm Stay - Shady Grove       Wells  43.433398   \n",
       "2  Welcome to our lakeside retreat with sauna.   Hinesburg  44.352431   \n",
       "\n",
       "   longitude                                  availabilities  guests  \\\n",
       "0 -71.489985  [{'start': '2025-10-20', 'end': '2026-04-30'}]     4.0   \n",
       "3 -73.084339  [{'start': '2026-01-06', 'end': '2026-03-31'}]     6.0   \n",
       "1 -73.130898  [{'start': '2026-01-06', 'end': '2026-04-30'}]     2.0   \n",
       "0 -73.131573  [{'start': '2026-01-06', 'end': '2026-04-30'}]     2.0   \n",
       "1 -73.130898  [{'start': '2026-01-06', 'end': '2026-04-30'}]     2.0   \n",
       "0 -73.131573  [{'start': '2026-01-06', 'end': '2026-04-30'}]     2.0   \n",
       "0 -71.489985  [{'start': '2025-10-20', 'end': '2026-04-30'}]     4.0   \n",
       "1 -73.130898  [{'start': '2026-01-06', 'end': '2026-04-30'}]     2.0   \n",
       "0 -73.131573  [{'start': '2026-01-06', 'end': '2026-04-30'}]     2.0   \n",
       "2 -73.084339  [{'start': '2026-01-06', 'end': '2026-03-31'}]     6.0   \n",
       "\n",
       "  pet_preference                                                home_url  \\\n",
       "0             NO  https://livekindred.com/home/clqeh23du00pykv3ckajh3kgy   \n",
       "3          MAYBE  https://livekindred.com/home/cm6r9bhw62mby2aouhdo3c582   \n",
       "1             NO  https://livekindred.com/home/cmalrshzs0cog8s4reg2e4160   \n",
       "0             NO  https://livekindred.com/home/cmg9ymoos007jm22aom4je9d0   \n",
       "1             NO  https://livekindred.com/home/cmalrshzs0cog8s4reg2e4160   \n",
       "0             NO  https://livekindred.com/home/cmg9ymoos007jm22aom4je9d0   \n",
       "0             NO  https://livekindred.com/home/clqeh23du00pykv3ckajh3kgy   \n",
       "1             NO  https://livekindred.com/home/cmalrshzs0cog8s4reg2e4160   \n",
       "0             NO  https://livekindred.com/home/cmg9ymoos007jm22aom4je9d0   \n",
       "2          MAYBE  https://livekindred.com/home/cm6r9bhw62mby2aouhdo3c582   \n",
       "\n",
       "          resort          state     region  resort_lat  resort_lon  \\\n",
       "0  Loon Mountain  New Hampshire  Northeast    44.05644   -71.63545   \n",
       "3      Sugarbush        Vermont  Northeast    44.13526   -72.89562   \n",
       "1           Pico        Vermont  Northeast    43.66180   -72.84333   \n",
       "0           Pico        Vermont  Northeast    43.66180   -72.84333   \n",
       "1     Killington        Vermont  Northeast    43.62573   -72.79827   \n",
       "0     Killington        Vermont  Northeast    43.62573   -72.79827   \n",
       "0       Cranmore  New Hampshire  Northeast    44.05638   -71.11078   \n",
       "1       Stratton        Vermont  Northeast    43.11342   -72.91032   \n",
       "0       Stratton        Vermont  Northeast    43.11342   -72.91032   \n",
       "2           Pico        Vermont  Northeast    43.66180   -72.84333   \n",
       "\n",
       "   driving_time_minutes  \n",
       "0             56.203333  \n",
       "3             61.728333  \n",
       "1             65.005000  \n",
       "0             66.096667  \n",
       "1             73.528333  \n",
       "0             74.620000  \n",
       "0             78.461667  \n",
       "1             79.236667  \n",
       "0             80.328333  \n",
       "2            108.841667  "
      ]
     },
     "metadata": {},
     "output_type": "display_data"
    }
   ],
   "source": [
    "with pd.option_context('display.max_colwidth', None):\n",
    "    display(northeast_results.sort_values(by='driving_time_minutes').head(10))"
   ]
  },
  {
   "cell_type": "code",
   "execution_count": 20,
   "id": "e69525fd",
   "metadata": {},
   "outputs": [],
   "source": [
    "europe_locations = locations[locations['region'] == 'Europe']"
   ]
  },
  {
   "cell_type": "code",
   "execution_count": 49,
   "id": "39750fd0",
   "metadata": {},
   "outputs": [
    {
     "name": "stdout",
     "output_type": "stream",
     "text": [
      "Found 0 houses near Cervino Ski Paradise in 0:00:00.384896\n",
      "Found 0 houses near Chamonix Mont-Blanc in 0:00:00.271733\n",
      "Found 0 houses near Courmayeur Mont Blanc in 0:00:00.460980\n",
      "Found 1 houses near Dolomiti Superski in 0:00:00.376140\n",
      "Found 0 houses near Grandvalira in 0:00:00.179913\n",
      "Found 0 houses near Ischgl in 0:00:00.176776\n",
      "Found 1 houses near Kitzbühel in 0:00:00.280840\n",
      "Found 1 houses near La Thuile - Espace San Bernardo in 0:00:00.262700\n",
      "Found 2 houses near Monterosa Ski in 0:00:00.356572\n",
      "Found 1 houses near Pila in 0:00:00.337836\n",
      "Found 0 houses near St. Moritz in 0:00:00.320675\n",
      "Found 0 houses near Zermatt in 0:00:00.241877\n"
     ]
    }
   ],
   "source": [
    "europe_results = resort_map_multiple(\n",
    "    europe_locations,\n",
    "    ['2025-12-27', '2026-01-04'],\n",
    "    date_type='exact',\n",
    "    mile_range=40\n",
    ")"
   ]
  },
  {
   "cell_type": "code",
   "execution_count": 50,
   "id": "3a0017c0",
   "metadata": {},
   "outputs": [
    {
     "data": {
      "text/html": [
       "<div>\n",
       "<style scoped>\n",
       "    .dataframe tbody tr th:only-of-type {\n",
       "        vertical-align: middle;\n",
       "    }\n",
       "\n",
       "    .dataframe tbody tr th {\n",
       "        vertical-align: top;\n",
       "    }\n",
       "\n",
       "    .dataframe thead th {\n",
       "        text-align: right;\n",
       "    }\n",
       "</style>\n",
       "<table border=\"1\" class=\"dataframe\">\n",
       "  <thead>\n",
       "    <tr style=\"text-align: right;\">\n",
       "      <th></th>\n",
       "      <th>availabilities</th>\n",
       "      <th>home_url</th>\n",
       "      <th>resort</th>\n",
       "      <th>state</th>\n",
       "      <th>region</th>\n",
       "      <th>resort_lat</th>\n",
       "      <th>resort_lon</th>\n",
       "      <th>id</th>\n",
       "      <th>home_id</th>\n",
       "      <th>title</th>\n",
       "      <th>destination</th>\n",
       "      <th>latitude</th>\n",
       "      <th>longitude</th>\n",
       "      <th>guests</th>\n",
       "      <th>pet_preference</th>\n",
       "      <th>driving_time_minutes</th>\n",
       "    </tr>\n",
       "  </thead>\n",
       "  <tbody>\n",
       "    <tr>\n",
       "      <th>1</th>\n",
       "      <td>[{'start': '2025-12-25', 'end': '2026-01-08'}]</td>\n",
       "      <td>https://livekindred.com/home/cmckzja520yk213lc9na2ma6v</td>\n",
       "      <td>Monterosa Ski</td>\n",
       "      <td>NaN</td>\n",
       "      <td>Europe</td>\n",
       "      <td>45.85469</td>\n",
       "      <td>7.73321</td>\n",
       "      <td>cmckzja520yk213lc9na2ma6v</td>\n",
       "      <td>cmckzja520yk213lc9na2ma6v</td>\n",
       "      <td>Torino home</td>\n",
       "      <td>Torino</td>\n",
       "      <td>45.059166</td>\n",
       "      <td>7.684403</td>\n",
       "      <td>2.0</td>\n",
       "      <td>MAYBE</td>\n",
       "      <td>96.016667</td>\n",
       "    </tr>\n",
       "    <tr>\n",
       "      <th>0</th>\n",
       "      <td>[{'start': '2025-12-20', 'end': '2026-01-04'}]</td>\n",
       "      <td>https://livekindred.com/home/cmciuk4ql3ern365dto90dzoo</td>\n",
       "      <td>Kitzbühel</td>\n",
       "      <td>NaN</td>\n",
       "      <td>Europe</td>\n",
       "      <td>47.44351</td>\n",
       "      <td>12.38964</td>\n",
       "      <td>cmciuk4ql3ern365dto90dzoo</td>\n",
       "      <td>cmciuk4ql3ern365dto90dzoo</td>\n",
       "      <td>Sunny Stream - your Salzburg home</td>\n",
       "      <td>Salzburg</td>\n",
       "      <td>47.815949</td>\n",
       "      <td>13.022196</td>\n",
       "      <td>3.0</td>\n",
       "      <td>NO</td>\n",
       "      <td>101.408333</td>\n",
       "    </tr>\n",
       "    <tr>\n",
       "      <th>0</th>\n",
       "      <td>[{'start': '2025-12-25', 'end': '2026-01-08'}]</td>\n",
       "      <td>https://livekindred.com/home/cmckzja520yk213lc9na2ma6v</td>\n",
       "      <td>Pila</td>\n",
       "      <td>NaN</td>\n",
       "      <td>Europe</td>\n",
       "      <td>45.69021</td>\n",
       "      <td>7.31018</td>\n",
       "      <td>cmckzja520yk213lc9na2ma6v</td>\n",
       "      <td>cmckzja520yk213lc9na2ma6v</td>\n",
       "      <td>Torino home</td>\n",
       "      <td>Torino</td>\n",
       "      <td>45.059166</td>\n",
       "      <td>7.684403</td>\n",
       "      <td>2.0</td>\n",
       "      <td>MAYBE</td>\n",
       "      <td>112.845000</td>\n",
       "    </tr>\n",
       "    <tr>\n",
       "      <th>0</th>\n",
       "      <td>[{'start': '2025-12-25', 'end': '2026-01-08'}]</td>\n",
       "      <td>https://livekindred.com/home/cmckzja520yk213lc9na2ma6v</td>\n",
       "      <td>La Thuile - Espace San Bernardo</td>\n",
       "      <td>NaN</td>\n",
       "      <td>Europe</td>\n",
       "      <td>45.71242</td>\n",
       "      <td>6.94892</td>\n",
       "      <td>cmckzja520yk213lc9na2ma6v</td>\n",
       "      <td>cmckzja520yk213lc9na2ma6v</td>\n",
       "      <td>Torino home</td>\n",
       "      <td>Torino</td>\n",
       "      <td>45.059166</td>\n",
       "      <td>7.684403</td>\n",
       "      <td>2.0</td>\n",
       "      <td>MAYBE</td>\n",
       "      <td>128.555000</td>\n",
       "    </tr>\n",
       "    <tr>\n",
       "      <th>0</th>\n",
       "      <td>[{'start': '2025-10-26', 'end': '2026-01-31'}]</td>\n",
       "      <td>https://livekindred.com/home/cm6f39nyo1a9achkolohf3w2l</td>\n",
       "      <td>Monterosa Ski</td>\n",
       "      <td>NaN</td>\n",
       "      <td>Europe</td>\n",
       "      <td>45.85469</td>\n",
       "      <td>7.73321</td>\n",
       "      <td>cm6f39nyo1a9achkolohf3w2l</td>\n",
       "      <td>cm6f39nyo1a9achkolohf3w2l</td>\n",
       "      <td>Spacious home near Como, Milan and Switzerland.</td>\n",
       "      <td>Malnate</td>\n",
       "      <td>45.787671</td>\n",
       "      <td>8.868370</td>\n",
       "      <td>4.0</td>\n",
       "      <td>MAYBE</td>\n",
       "      <td>138.576667</td>\n",
       "    </tr>\n",
       "    <tr>\n",
       "      <th>0</th>\n",
       "      <td>[{'start': '2025-12-25', 'end': '2026-01-04'}]</td>\n",
       "      <td>https://livekindred.com/home/clztlmmam254njo1x2gonveja</td>\n",
       "      <td>Dolomiti Superski</td>\n",
       "      <td>NaN</td>\n",
       "      <td>Europe</td>\n",
       "      <td>46.53333</td>\n",
       "      <td>12.13333</td>\n",
       "      <td>clztlmmam254njo1x2gonveja</td>\n",
       "      <td>clztlmmam254njo1x2gonveja</td>\n",
       "      <td>Peaceful family-friendly home with big garden</td>\n",
       "      <td>Valbrenta</td>\n",
       "      <td>45.839544</td>\n",
       "      <td>11.689484</td>\n",
       "      <td>8.0</td>\n",
       "      <td>MAYBE</td>\n",
       "      <td>142.795000</td>\n",
       "    </tr>\n",
       "  </tbody>\n",
       "</table>\n",
       "</div>"
      ],
      "text/plain": [
       "                                   availabilities  \\\n",
       "1  [{'start': '2025-12-25', 'end': '2026-01-08'}]   \n",
       "0  [{'start': '2025-12-20', 'end': '2026-01-04'}]   \n",
       "0  [{'start': '2025-12-25', 'end': '2026-01-08'}]   \n",
       "0  [{'start': '2025-12-25', 'end': '2026-01-08'}]   \n",
       "0  [{'start': '2025-10-26', 'end': '2026-01-31'}]   \n",
       "0  [{'start': '2025-12-25', 'end': '2026-01-04'}]   \n",
       "\n",
       "                                                 home_url  \\\n",
       "1  https://livekindred.com/home/cmckzja520yk213lc9na2ma6v   \n",
       "0  https://livekindred.com/home/cmciuk4ql3ern365dto90dzoo   \n",
       "0  https://livekindred.com/home/cmckzja520yk213lc9na2ma6v   \n",
       "0  https://livekindred.com/home/cmckzja520yk213lc9na2ma6v   \n",
       "0  https://livekindred.com/home/cm6f39nyo1a9achkolohf3w2l   \n",
       "0  https://livekindred.com/home/clztlmmam254njo1x2gonveja   \n",
       "\n",
       "                            resort  state  region  resort_lat  resort_lon  \\\n",
       "1                    Monterosa Ski    NaN  Europe    45.85469     7.73321   \n",
       "0                        Kitzbühel    NaN  Europe    47.44351    12.38964   \n",
       "0                             Pila    NaN  Europe    45.69021     7.31018   \n",
       "0  La Thuile - Espace San Bernardo    NaN  Europe    45.71242     6.94892   \n",
       "0                    Monterosa Ski    NaN  Europe    45.85469     7.73321   \n",
       "0                Dolomiti Superski    NaN  Europe    46.53333    12.13333   \n",
       "\n",
       "                          id                    home_id  \\\n",
       "1  cmckzja520yk213lc9na2ma6v  cmckzja520yk213lc9na2ma6v   \n",
       "0  cmciuk4ql3ern365dto90dzoo  cmciuk4ql3ern365dto90dzoo   \n",
       "0  cmckzja520yk213lc9na2ma6v  cmckzja520yk213lc9na2ma6v   \n",
       "0  cmckzja520yk213lc9na2ma6v  cmckzja520yk213lc9na2ma6v   \n",
       "0  cm6f39nyo1a9achkolohf3w2l  cm6f39nyo1a9achkolohf3w2l   \n",
       "0  clztlmmam254njo1x2gonveja  clztlmmam254njo1x2gonveja   \n",
       "\n",
       "                                             title destination   latitude  \\\n",
       "1                                      Torino home      Torino  45.059166   \n",
       "0                Sunny Stream - your Salzburg home    Salzburg  47.815949   \n",
       "0                                      Torino home      Torino  45.059166   \n",
       "0                                      Torino home      Torino  45.059166   \n",
       "0  Spacious home near Como, Milan and Switzerland.     Malnate  45.787671   \n",
       "0    Peaceful family-friendly home with big garden   Valbrenta  45.839544   \n",
       "\n",
       "   longitude  guests pet_preference  driving_time_minutes  \n",
       "1   7.684403     2.0          MAYBE             96.016667  \n",
       "0  13.022196     3.0             NO            101.408333  \n",
       "0   7.684403     2.0          MAYBE            112.845000  \n",
       "0   7.684403     2.0          MAYBE            128.555000  \n",
       "0   8.868370     4.0          MAYBE            138.576667  \n",
       "0  11.689484     8.0          MAYBE            142.795000  "
      ]
     },
     "metadata": {},
     "output_type": "display_data"
    }
   ],
   "source": [
    "with pd.option_context('display.max_colwidth', None):\n",
    "    display(europe_results.sort_values(by='driving_time_minutes').head(10))"
   ]
  },
  {
   "cell_type": "code",
   "execution_count": 14,
   "id": "9cb8449e",
   "metadata": {},
   "outputs": [],
   "source": [
    "medium_plus_locations = locations[\n",
    "    (locations['skiable_acres'] >= 350) &\n",
    "    (locations['annual_snowfall'] >= 150)\n",
    "]"
   ]
  },
  {
   "cell_type": "code",
   "execution_count": null,
   "id": "1578f484",
   "metadata": {},
   "outputs": [],
   "source": [
    "medium_plus_results = resort_map_multiple(\n",
    "    medium_plus_locations,\n",
    "    ['2026-01-17', '2026-01-19'],\n",
    "    date_type='exact',\n",
    "    mile_range=50\n",
    ")\n"
   ]
  },
  {
   "cell_type": "code",
   "execution_count": 17,
   "id": "6d0dcb49",
   "metadata": {},
   "outputs": [
    {
     "data": {
      "text/html": [
       "<div>\n",
       "<style scoped>\n",
       "    .dataframe tbody tr th:only-of-type {\n",
       "        vertical-align: middle;\n",
       "    }\n",
       "\n",
       "    .dataframe tbody tr th {\n",
       "        vertical-align: top;\n",
       "    }\n",
       "\n",
       "    .dataframe thead th {\n",
       "        text-align: right;\n",
       "    }\n",
       "</style>\n",
       "<table border=\"1\" class=\"dataframe\">\n",
       "  <thead>\n",
       "    <tr style=\"text-align: right;\">\n",
       "      <th></th>\n",
       "      <th>id</th>\n",
       "      <th>home_id</th>\n",
       "      <th>title</th>\n",
       "      <th>destination</th>\n",
       "      <th>latitude</th>\n",
       "      <th>longitude</th>\n",
       "      <th>availabilities</th>\n",
       "      <th>guests</th>\n",
       "      <th>pet_preference</th>\n",
       "      <th>home_url</th>\n",
       "      <th>resort</th>\n",
       "      <th>state</th>\n",
       "      <th>resort_lat</th>\n",
       "      <th>resort_lon</th>\n",
       "      <th>driving_time_minutes</th>\n",
       "    </tr>\n",
       "  </thead>\n",
       "  <tbody>\n",
       "    <tr>\n",
       "      <th>2</th>\n",
       "      <td>cm7pnegd92dgaua71wkws2jku</td>\n",
       "      <td>cm7pnegd92dgaua71wkws2jku</td>\n",
       "      <td>Cozy Sandy home close to mountains</td>\n",
       "      <td>Sandy</td>\n",
       "      <td>40.545481</td>\n",
       "      <td>-111.853475</td>\n",
       "      <td>[{'start': '2026-01-15', 'end': '2026-01-19'}]</td>\n",
       "      <td>4.0</td>\n",
       "      <td>NO</td>\n",
       "      <td>https://livekindred.com/home/cm7pnegd92dgaua71wkws2jku</td>\n",
       "      <td>Alta</td>\n",
       "      <td>Utah</td>\n",
       "      <td>40.58827</td>\n",
       "      <td>-111.63799</td>\n",
       "      <td>28.720000</td>\n",
       "    </tr>\n",
       "    <tr>\n",
       "      <th>11</th>\n",
       "      <td>clxqab08t339t2sbcsf7y7bov</td>\n",
       "      <td>clxqab08t339t2sbcsf7y7bov</td>\n",
       "      <td>Peaceful, Open and Sunny Downtown Vancouver Nest!</td>\n",
       "      <td>Vancouver</td>\n",
       "      <td>49.283194</td>\n",
       "      <td>-123.136111</td>\n",
       "      <td>[{'start': '2026-01-15', 'end': '2026-01-26'}]</td>\n",
       "      <td>2.0</td>\n",
       "      <td>NO</td>\n",
       "      <td>https://livekindred.com/home/clxqab08t339t2sbcsf7y7bov</td>\n",
       "      <td>Cypress Mountain</td>\n",
       "      <td>British Columbia</td>\n",
       "      <td>49.39602</td>\n",
       "      <td>-123.20681</td>\n",
       "      <td>37.146667</td>\n",
       "    </tr>\n",
       "    <tr>\n",
       "      <th>3</th>\n",
       "      <td>clxvvq4mc0uaixpkpximc84j4</td>\n",
       "      <td>clxvvq4mc0uaixpkpximc84j4</td>\n",
       "      <td>Central and spacious Yaletown Vancouver condo</td>\n",
       "      <td>Vancouver</td>\n",
       "      <td>49.279504</td>\n",
       "      <td>-123.118394</td>\n",
       "      <td>[{'start': '2025-12-11', 'end': '2026-03-31'}]</td>\n",
       "      <td>3.0</td>\n",
       "      <td>NO</td>\n",
       "      <td>https://livekindred.com/home/clxvvq4mc0uaixpkpximc84j4</td>\n",
       "      <td>Cypress Mountain</td>\n",
       "      <td>British Columbia</td>\n",
       "      <td>49.39602</td>\n",
       "      <td>-123.20681</td>\n",
       "      <td>37.721667</td>\n",
       "    </tr>\n",
       "    <tr>\n",
       "      <th>3</th>\n",
       "      <td>clixdrhjs06usm33a0vhettz1</td>\n",
       "      <td>clixdrhjs06usm33a0vhettz1</td>\n",
       "      <td>Peaceful and sunny Sugar House home</td>\n",
       "      <td>Salt Lake City</td>\n",
       "      <td>40.727282</td>\n",
       "      <td>-111.851052</td>\n",
       "      <td>[{'start': '2025-12-01', 'end': '2026-01-29'}]</td>\n",
       "      <td>2.0</td>\n",
       "      <td>MAYBE</td>\n",
       "      <td>https://livekindred.com/home/clixdrhjs06usm33a0vhettz1</td>\n",
       "      <td>Deer Valley</td>\n",
       "      <td>Utah</td>\n",
       "      <td>40.63738</td>\n",
       "      <td>-111.48049</td>\n",
       "      <td>38.791667</td>\n",
       "    </tr>\n",
       "    <tr>\n",
       "      <th>0</th>\n",
       "      <td>cm560fcoe0jjwjalp4jxwc03y</td>\n",
       "      <td>cm560fcoe0jjwjalp4jxwc03y</td>\n",
       "      <td>Peaceful and sunny Central City home</td>\n",
       "      <td>Salt Lake City</td>\n",
       "      <td>40.704993</td>\n",
       "      <td>-111.875864</td>\n",
       "      <td>[{'start': '2026-01-08', 'end': '2026-02-20'}]</td>\n",
       "      <td>4.0</td>\n",
       "      <td>MAYBE</td>\n",
       "      <td>https://livekindred.com/home/cm560fcoe0jjwjalp4jxwc03y</td>\n",
       "      <td>Deer Valley</td>\n",
       "      <td>Utah</td>\n",
       "      <td>40.63738</td>\n",
       "      <td>-111.48049</td>\n",
       "      <td>39.891667</td>\n",
       "    </tr>\n",
       "    <tr>\n",
       "      <th>3</th>\n",
       "      <td>clixdrhjs06usm33a0vhettz1</td>\n",
       "      <td>clixdrhjs06usm33a0vhettz1</td>\n",
       "      <td>Peaceful and sunny Sugar House home</td>\n",
       "      <td>Salt Lake City</td>\n",
       "      <td>40.727282</td>\n",
       "      <td>-111.851052</td>\n",
       "      <td>[{'start': '2025-12-01', 'end': '2026-01-29'}]</td>\n",
       "      <td>2.0</td>\n",
       "      <td>MAYBE</td>\n",
       "      <td>https://livekindred.com/home/clixdrhjs06usm33a0vhettz1</td>\n",
       "      <td>Alta</td>\n",
       "      <td>Utah</td>\n",
       "      <td>40.58827</td>\n",
       "      <td>-111.63799</td>\n",
       "      <td>40.003333</td>\n",
       "    </tr>\n",
       "    <tr>\n",
       "      <th>0</th>\n",
       "      <td>cm560fcoe0jjwjalp4jxwc03y</td>\n",
       "      <td>cm560fcoe0jjwjalp4jxwc03y</td>\n",
       "      <td>Peaceful and sunny Central City home</td>\n",
       "      <td>Salt Lake City</td>\n",
       "      <td>40.704993</td>\n",
       "      <td>-111.875864</td>\n",
       "      <td>[{'start': '2026-01-08', 'end': '2026-02-20'}]</td>\n",
       "      <td>4.0</td>\n",
       "      <td>MAYBE</td>\n",
       "      <td>https://livekindred.com/home/cm560fcoe0jjwjalp4jxwc03y</td>\n",
       "      <td>Alta</td>\n",
       "      <td>Utah</td>\n",
       "      <td>40.58827</td>\n",
       "      <td>-111.63799</td>\n",
       "      <td>41.105000</td>\n",
       "    </tr>\n",
       "    <tr>\n",
       "      <th>0</th>\n",
       "      <td>cm7o64lfo4ix6lv5gbgzoza7j</td>\n",
       "      <td>cm7o64lfo4ix6lv5gbgzoza7j</td>\n",
       "      <td>Rabbit Creek home</td>\n",
       "      <td>Anchorage</td>\n",
       "      <td>61.069359</td>\n",
       "      <td>-149.792584</td>\n",
       "      <td>[{'start': '2025-10-16', 'end': '2026-03-01'}]</td>\n",
       "      <td>8.0</td>\n",
       "      <td>MAYBE</td>\n",
       "      <td>https://livekindred.com/home/cm7o64lfo4ix6lv5gbgzoza7j</td>\n",
       "      <td>Alyeska</td>\n",
       "      <td>Alaska</td>\n",
       "      <td>60.97050</td>\n",
       "      <td>-149.09820</td>\n",
       "      <td>42.690000</td>\n",
       "    </tr>\n",
       "    <tr>\n",
       "      <th>13</th>\n",
       "      <td>cmfcy7c4801nekk2jncm9sq9w</td>\n",
       "      <td>cmfcy7c4801nekk2jncm9sq9w</td>\n",
       "      <td>Peaceful and spacious 1-bedroom home 750 Sq.Ft</td>\n",
       "      <td>Vancouver</td>\n",
       "      <td>49.258707</td>\n",
       "      <td>-123.143547</td>\n",
       "      <td>[{'start': '2025-10-16', 'end': '2026-04-30'}]</td>\n",
       "      <td>2.0</td>\n",
       "      <td>MAYBE</td>\n",
       "      <td>https://livekindred.com/home/cmfcy7c4801nekk2jncm9sq9w</td>\n",
       "      <td>Cypress Mountain</td>\n",
       "      <td>British Columbia</td>\n",
       "      <td>49.39602</td>\n",
       "      <td>-123.20681</td>\n",
       "      <td>43.910000</td>\n",
       "    </tr>\n",
       "    <tr>\n",
       "      <th>1</th>\n",
       "      <td>cm96dpm9993u4lio8oe42u03j</td>\n",
       "      <td>cm96dpm9993u4lio8oe42u03j</td>\n",
       "      <td>Spacious and Historic Downtown Loft</td>\n",
       "      <td>Salt Lake City</td>\n",
       "      <td>40.767432</td>\n",
       "      <td>-111.899361</td>\n",
       "      <td>[{'start': '2026-01-17', 'end': '2026-01-24'}]</td>\n",
       "      <td>4.0</td>\n",
       "      <td>MAYBE</td>\n",
       "      <td>https://livekindred.com/home/cm96dpm9993u4lio8oe42u03j</td>\n",
       "      <td>Deer Valley</td>\n",
       "      <td>Utah</td>\n",
       "      <td>40.63738</td>\n",
       "      <td>-111.48049</td>\n",
       "      <td>45.768333</td>\n",
       "    </tr>\n",
       "    <tr>\n",
       "      <th>1</th>\n",
       "      <td>cm96dpm9993u4lio8oe42u03j</td>\n",
       "      <td>cm96dpm9993u4lio8oe42u03j</td>\n",
       "      <td>Spacious and Historic Downtown Loft</td>\n",
       "      <td>Salt Lake City</td>\n",
       "      <td>40.767432</td>\n",
       "      <td>-111.899361</td>\n",
       "      <td>[{'start': '2026-01-17', 'end': '2026-01-24'}]</td>\n",
       "      <td>4.0</td>\n",
       "      <td>MAYBE</td>\n",
       "      <td>https://livekindred.com/home/cm96dpm9993u4lio8oe42u03j</td>\n",
       "      <td>Alta</td>\n",
       "      <td>Utah</td>\n",
       "      <td>40.58827</td>\n",
       "      <td>-111.63799</td>\n",
       "      <td>46.981667</td>\n",
       "    </tr>\n",
       "    <tr>\n",
       "      <th>1</th>\n",
       "      <td>cmcc9mg2j004z14fdbsqmwz70</td>\n",
       "      <td>cmcc9mg2j004z14fdbsqmwz70</td>\n",
       "      <td>Peaceful and stylish Downtown home.</td>\n",
       "      <td>Anchorage</td>\n",
       "      <td>61.212555</td>\n",
       "      <td>-149.891070</td>\n",
       "      <td>[{'start': '2025-10-16', 'end': '2026-03-31'}]</td>\n",
       "      <td>6.0</td>\n",
       "      <td>MAYBE</td>\n",
       "      <td>https://livekindred.com/home/cmcc9mg2j004z14fdbsqmwz70</td>\n",
       "      <td>Alyeska</td>\n",
       "      <td>Alaska</td>\n",
       "      <td>60.97050</td>\n",
       "      <td>-149.09820</td>\n",
       "      <td>52.891667</td>\n",
       "    </tr>\n",
       "    <tr>\n",
       "      <th>11</th>\n",
       "      <td>cmb60178d0569sk8v9de2oeip</td>\n",
       "      <td>cmb60178d0569sk8v9de2oeip</td>\n",
       "      <td>Peaceful Boulder home</td>\n",
       "      <td>Boulder</td>\n",
       "      <td>40.035121</td>\n",
       "      <td>-105.302368</td>\n",
       "      <td>[{'start': '2025-11-26', 'end': '2026-02-28'}]</td>\n",
       "      <td>2.0</td>\n",
       "      <td>MAYBE</td>\n",
       "      <td>https://livekindred.com/home/cmb60178d0569sk8v9de2oeip</td>\n",
       "      <td>Eldora Mountain</td>\n",
       "      <td>Colorado</td>\n",
       "      <td>39.93774</td>\n",
       "      <td>-105.58634</td>\n",
       "      <td>56.138333</td>\n",
       "    </tr>\n",
       "    <tr>\n",
       "      <th>7</th>\n",
       "      <td>cm0lhsa252evxj8q9bnxwofer</td>\n",
       "      <td>cm0lhsa252evxj8q9bnxwofer</td>\n",
       "      <td>Family-Friendly &amp; Spacious Port Coquitlam home</td>\n",
       "      <td>Port Coquitlam</td>\n",
       "      <td>49.238094</td>\n",
       "      <td>-122.785163</td>\n",
       "      <td>[{'start': '2026-01-06', 'end': '2026-01-31'}]</td>\n",
       "      <td>6.0</td>\n",
       "      <td>MAYBE</td>\n",
       "      <td>https://livekindred.com/home/cm0lhsa252evxj8q9bnxwofer</td>\n",
       "      <td>Cypress Mountain</td>\n",
       "      <td>British Columbia</td>\n",
       "      <td>49.39602</td>\n",
       "      <td>-123.20681</td>\n",
       "      <td>59.236667</td>\n",
       "    </tr>\n",
       "    <tr>\n",
       "      <th>5</th>\n",
       "      <td>cm0dfko0k0omf115o4v6v6h4k</td>\n",
       "      <td>cm0dfko0k0omf115o4v6v6h4k</td>\n",
       "      <td>Spacious 1,000 sq.ft. Private Suite YVR</td>\n",
       "      <td>Richmond</td>\n",
       "      <td>49.178778</td>\n",
       "      <td>-123.108052</td>\n",
       "      <td>[{'start': '2025-12-20', 'end': '2026-04-30'}]</td>\n",
       "      <td>2.0</td>\n",
       "      <td>NO</td>\n",
       "      <td>https://livekindred.com/home/cm0dfko0k0omf115o4v6v6h4k</td>\n",
       "      <td>Cypress Mountain</td>\n",
       "      <td>British Columbia</td>\n",
       "      <td>49.39602</td>\n",
       "      <td>-123.20681</td>\n",
       "      <td>59.431667</td>\n",
       "    </tr>\n",
       "    <tr>\n",
       "      <th>2</th>\n",
       "      <td>cmdgkby57020gm12iw69bzrlb</td>\n",
       "      <td>cmdgkby57020gm12iw69bzrlb</td>\n",
       "      <td>Sunny mountain home with stunning views</td>\n",
       "      <td>Golden</td>\n",
       "      <td>39.707317</td>\n",
       "      <td>-105.280928</td>\n",
       "      <td>[{'start': '2026-01-16', 'end': '2026-01-23'}]</td>\n",
       "      <td>4.0</td>\n",
       "      <td>MAYBE</td>\n",
       "      <td>https://livekindred.com/home/cmdgkby57020gm12iw69bzrlb</td>\n",
       "      <td>Arapahoe Basin</td>\n",
       "      <td>Colorado</td>\n",
       "      <td>39.64167</td>\n",
       "      <td>-105.87167</td>\n",
       "      <td>59.728333</td>\n",
       "    </tr>\n",
       "    <tr>\n",
       "      <th>3</th>\n",
       "      <td>cm3kfvxml3nub215r08wyc68a</td>\n",
       "      <td>cm3kfvxml3nub215r08wyc68a</td>\n",
       "      <td>Modern townhouse with rooftop views</td>\n",
       "      <td>Seattle</td>\n",
       "      <td>47.596879</td>\n",
       "      <td>-122.296110</td>\n",
       "      <td>[{'start': '2026-01-16', 'end': '2026-01-24'}]</td>\n",
       "      <td>2.0</td>\n",
       "      <td>MAYBE</td>\n",
       "      <td>https://livekindred.com/home/cm3kfvxml3nub215r08wyc68a</td>\n",
       "      <td>The Summit at Snoqualmie</td>\n",
       "      <td>Washington</td>\n",
       "      <td>47.42044</td>\n",
       "      <td>-121.42329</td>\n",
       "      <td>61.373333</td>\n",
       "    </tr>\n",
       "    <tr>\n",
       "      <th>1</th>\n",
       "      <td>clow7abv603rokh394a0o1p5n</td>\n",
       "      <td>clow7abv603rokh394a0o1p5n</td>\n",
       "      <td>Chic and cozy home with private balcony</td>\n",
       "      <td>Seattle</td>\n",
       "      <td>47.618067</td>\n",
       "      <td>-122.327906</td>\n",
       "      <td>[{'start': '2026-01-15', 'end': '2026-01-19'}]</td>\n",
       "      <td>2.0</td>\n",
       "      <td>NO</td>\n",
       "      <td>https://livekindred.com/home/clow7abv603rokh394a0o1p5n</td>\n",
       "      <td>The Summit at Snoqualmie</td>\n",
       "      <td>Washington</td>\n",
       "      <td>47.42044</td>\n",
       "      <td>-121.42329</td>\n",
       "      <td>62.620000</td>\n",
       "    </tr>\n",
       "    <tr>\n",
       "      <th>4</th>\n",
       "      <td>cm6cwycrrbr2a4fidthq0itc6</td>\n",
       "      <td>cm6cwycrrbr2a4fidthq0itc6</td>\n",
       "      <td>Peaceful and charming Madison Valley home</td>\n",
       "      <td>Seattle</td>\n",
       "      <td>47.618003</td>\n",
       "      <td>-122.297579</td>\n",
       "      <td>[{'start': '2026-01-16', 'end': '2026-01-19'}]</td>\n",
       "      <td>2.0</td>\n",
       "      <td>MAYBE</td>\n",
       "      <td>https://livekindred.com/home/cm6cwycrrbr2a4fidthq0itc6</td>\n",
       "      <td>The Summit at Snoqualmie</td>\n",
       "      <td>Washington</td>\n",
       "      <td>47.42044</td>\n",
       "      <td>-121.42329</td>\n",
       "      <td>65.708333</td>\n",
       "    </tr>\n",
       "    <tr>\n",
       "      <th>10</th>\n",
       "      <td>cmawmf24l0zio13emsha3fxhd</td>\n",
       "      <td>cmawmf24l0zio13emsha3fxhd</td>\n",
       "      <td>Stunning Seattle Escape -Rooftop view Space Needle</td>\n",
       "      <td>Seattle</td>\n",
       "      <td>47.624902</td>\n",
       "      <td>-122.362803</td>\n",
       "      <td>[{'start': '2026-01-16', 'end': '2026-01-19'}]</td>\n",
       "      <td>10.0</td>\n",
       "      <td>MAYBE</td>\n",
       "      <td>https://livekindred.com/home/cmawmf24l0zio13emsha3fxhd</td>\n",
       "      <td>The Summit at Snoqualmie</td>\n",
       "      <td>Washington</td>\n",
       "      <td>47.42044</td>\n",
       "      <td>-121.42329</td>\n",
       "      <td>68.045000</td>\n",
       "    </tr>\n",
       "    <tr>\n",
       "      <th>11</th>\n",
       "      <td>cm0ydv6r93vobr3331eoujv6a</td>\n",
       "      <td>cm0ydv6r93vobr3331eoujv6a</td>\n",
       "      <td>Peaceful and sunny Inglewood-Finn Hill home</td>\n",
       "      <td>Kirkland</td>\n",
       "      <td>47.708678</td>\n",
       "      <td>-122.220509</td>\n",
       "      <td>[{'start': '2026-01-04', 'end': '2026-04-30'}]</td>\n",
       "      <td>6.0</td>\n",
       "      <td>MAYBE</td>\n",
       "      <td>https://livekindred.com/home/cm0ydv6r93vobr3331eoujv6a</td>\n",
       "      <td>The Summit at Snoqualmie</td>\n",
       "      <td>Washington</td>\n",
       "      <td>47.42044</td>\n",
       "      <td>-121.42329</td>\n",
       "      <td>71.270000</td>\n",
       "    </tr>\n",
       "    <tr>\n",
       "      <th>0</th>\n",
       "      <td>cmdgkby57020gm12iw69bzrlb</td>\n",
       "      <td>cmdgkby57020gm12iw69bzrlb</td>\n",
       "      <td>Sunny mountain home with stunning views</td>\n",
       "      <td>Golden</td>\n",
       "      <td>39.707317</td>\n",
       "      <td>-105.280928</td>\n",
       "      <td>[{'start': '2026-01-16', 'end': '2026-01-23'}]</td>\n",
       "      <td>4.0</td>\n",
       "      <td>MAYBE</td>\n",
       "      <td>https://livekindred.com/home/cmdgkby57020gm12iw69bzrlb</td>\n",
       "      <td>Copper Mountain</td>\n",
       "      <td>Colorado</td>\n",
       "      <td>39.50000</td>\n",
       "      <td>-106.14821</td>\n",
       "      <td>71.271667</td>\n",
       "    </tr>\n",
       "    <tr>\n",
       "      <th>8</th>\n",
       "      <td>cm12ls8st5zof4dzm45gmkoip</td>\n",
       "      <td>cm12ls8st5zof4dzm45gmkoip</td>\n",
       "      <td>Family-Friendly Home in Walkable West Seattle</td>\n",
       "      <td>Seattle</td>\n",
       "      <td>47.584006</td>\n",
       "      <td>-122.389334</td>\n",
       "      <td>[{'start': '2026-01-14', 'end': '2026-01-20'}]</td>\n",
       "      <td>8.0</td>\n",
       "      <td>MAYBE</td>\n",
       "      <td>https://livekindred.com/home/cm12ls8st5zof4dzm45gmkoip</td>\n",
       "      <td>The Summit at Snoqualmie</td>\n",
       "      <td>Washington</td>\n",
       "      <td>47.42044</td>\n",
       "      <td>-121.42329</td>\n",
       "      <td>72.300000</td>\n",
       "    </tr>\n",
       "    <tr>\n",
       "      <th>8</th>\n",
       "      <td>cmfq5tga70pkhks2avdvjowgg</td>\n",
       "      <td>cmfq5tga70pkhks2avdvjowgg</td>\n",
       "      <td>Historic and cozy brick bungalow</td>\n",
       "      <td>Denver</td>\n",
       "      <td>39.781190</td>\n",
       "      <td>-105.052985</td>\n",
       "      <td>[{'start': '2026-01-01', 'end': '2026-03-28'}]</td>\n",
       "      <td>6.0</td>\n",
       "      <td>YES</td>\n",
       "      <td>https://livekindred.com/home/cmfq5tga70pkhks2avdvjowgg</td>\n",
       "      <td>Eldora Mountain</td>\n",
       "      <td>Colorado</td>\n",
       "      <td>39.93774</td>\n",
       "      <td>-105.58634</td>\n",
       "      <td>73.655000</td>\n",
       "    </tr>\n",
       "    <tr>\n",
       "      <th>0</th>\n",
       "      <td>cmg9ymoos007jm22aom4je9d0</td>\n",
       "      <td>cmg9ymoos007jm22aom4je9d0</td>\n",
       "      <td>Rustic Vermont Farm Stay - Shady Grove</td>\n",
       "      <td>Wells</td>\n",
       "      <td>43.433398</td>\n",
       "      <td>-73.131573</td>\n",
       "      <td>[{'start': '2026-01-06', 'end': '2026-04-30'}]</td>\n",
       "      <td>2.0</td>\n",
       "      <td>NO</td>\n",
       "      <td>https://livekindred.com/home/cmg9ymoos007jm22aom4je9d0</td>\n",
       "      <td>Killington</td>\n",
       "      <td>Vermont</td>\n",
       "      <td>43.62573</td>\n",
       "      <td>-72.79827</td>\n",
       "      <td>74.620000</td>\n",
       "    </tr>\n",
       "    <tr>\n",
       "      <th>4</th>\n",
       "      <td>cmfq5tga70pkhks2avdvjowgg</td>\n",
       "      <td>cmfq5tga70pkhks2avdvjowgg</td>\n",
       "      <td>Historic and cozy brick bungalow</td>\n",
       "      <td>Denver</td>\n",
       "      <td>39.781190</td>\n",
       "      <td>-105.052985</td>\n",
       "      <td>[{'start': '2026-01-01', 'end': '2026-03-28'}]</td>\n",
       "      <td>6.0</td>\n",
       "      <td>YES</td>\n",
       "      <td>https://livekindred.com/home/cmfq5tga70pkhks2avdvjowgg</td>\n",
       "      <td>Arapahoe Basin</td>\n",
       "      <td>Colorado</td>\n",
       "      <td>39.64167</td>\n",
       "      <td>-105.87167</td>\n",
       "      <td>75.135000</td>\n",
       "    </tr>\n",
       "    <tr>\n",
       "      <th>5</th>\n",
       "      <td>clm82w1uj1eoom03bgjpt8rug</td>\n",
       "      <td>clm82w1uj1eoom03bgjpt8rug</td>\n",
       "      <td>Layered, glamorous space just off of Wolf Bay</td>\n",
       "      <td>Seattle</td>\n",
       "      <td>47.665387</td>\n",
       "      <td>-122.275984</td>\n",
       "      <td>[{'start': '2025-10-16', 'end': '2026-04-30'}]</td>\n",
       "      <td>2.0</td>\n",
       "      <td>NO</td>\n",
       "      <td>https://livekindred.com/home/clm82w1uj1eoom03bgjpt8rug</td>\n",
       "      <td>The Summit at Snoqualmie</td>\n",
       "      <td>Washington</td>\n",
       "      <td>47.42044</td>\n",
       "      <td>-121.42329</td>\n",
       "      <td>75.643333</td>\n",
       "    </tr>\n",
       "    <tr>\n",
       "      <th>7</th>\n",
       "      <td>cmdgkby57020gm12iw69bzrlb</td>\n",
       "      <td>cmdgkby57020gm12iw69bzrlb</td>\n",
       "      <td>Sunny mountain home with stunning views</td>\n",
       "      <td>Golden</td>\n",
       "      <td>39.707317</td>\n",
       "      <td>-105.280928</td>\n",
       "      <td>[{'start': '2026-01-16', 'end': '2026-01-23'}]</td>\n",
       "      <td>4.0</td>\n",
       "      <td>MAYBE</td>\n",
       "      <td>https://livekindred.com/home/cmdgkby57020gm12iw69bzrlb</td>\n",
       "      <td>Eldora Mountain</td>\n",
       "      <td>Colorado</td>\n",
       "      <td>39.93774</td>\n",
       "      <td>-105.58634</td>\n",
       "      <td>76.133333</td>\n",
       "    </tr>\n",
       "    <tr>\n",
       "      <th>7</th>\n",
       "      <td>clof68s5k0hg9m9387k9ud9bi</td>\n",
       "      <td>clof68s5k0hg9m9387k9ud9bi</td>\n",
       "      <td>Chic and serene family-friendly home</td>\n",
       "      <td>Seattle</td>\n",
       "      <td>47.512252</td>\n",
       "      <td>-122.358935</td>\n",
       "      <td>[{'start': '2026-01-14', 'end': '2026-01-19'}]</td>\n",
       "      <td>5.0</td>\n",
       "      <td>NO</td>\n",
       "      <td>https://livekindred.com/home/clof68s5k0hg9m9387k9ud9bi</td>\n",
       "      <td>The Summit at Snoqualmie</td>\n",
       "      <td>Washington</td>\n",
       "      <td>47.42044</td>\n",
       "      <td>-121.42329</td>\n",
       "      <td>76.290000</td>\n",
       "    </tr>\n",
       "    <tr>\n",
       "      <th>0</th>\n",
       "      <td>clxv9bzby216jxv2v7sj8kauf</td>\n",
       "      <td>clxv9bzby216jxv2v7sj8kauf</td>\n",
       "      <td>Traditional, dynamic house close to both shops and parks</td>\n",
       "      <td>Denver</td>\n",
       "      <td>39.768889</td>\n",
       "      <td>-105.016172</td>\n",
       "      <td>[{'start': '2025-12-01', 'end': '2026-01-31'}]</td>\n",
       "      <td>4.0</td>\n",
       "      <td>NO</td>\n",
       "      <td>https://livekindred.com/home/clxv9bzby216jxv2v7sj8kauf</td>\n",
       "      <td>Eldora Mountain</td>\n",
       "      <td>Colorado</td>\n",
       "      <td>39.93774</td>\n",
       "      <td>-105.58634</td>\n",
       "      <td>78.501667</td>\n",
       "    </tr>\n",
       "    <tr>\n",
       "      <th>10</th>\n",
       "      <td>cmd9gbnuo1ckxkp2i0gezqdd4</td>\n",
       "      <td>cmd9gbnuo1ckxkp2i0gezqdd4</td>\n",
       "      <td>Sunny and charming Highland home</td>\n",
       "      <td>Denver</td>\n",
       "      <td>39.764723</td>\n",
       "      <td>-104.998479</td>\n",
       "      <td>[{'start': '2025-12-01', 'end': '2026-04-30'}]</td>\n",
       "      <td>2.0</td>\n",
       "      <td>NO</td>\n",
       "      <td>https://livekindred.com/home/cmd9gbnuo1ckxkp2i0gezqdd4</td>\n",
       "      <td>Eldora Mountain</td>\n",
       "      <td>Colorado</td>\n",
       "      <td>39.93774</td>\n",
       "      <td>-105.58634</td>\n",
       "      <td>78.505000</td>\n",
       "    </tr>\n",
       "    <tr>\n",
       "      <th>9</th>\n",
       "      <td>clxw4tv0122faxpkp223xzgj3</td>\n",
       "      <td>clxw4tv0122faxpkp223xzgj3</td>\n",
       "      <td>North Seattle mid century art filled home with water views</td>\n",
       "      <td>Lake Forest Park</td>\n",
       "      <td>47.735233</td>\n",
       "      <td>-122.285061</td>\n",
       "      <td>[{'start': '2026-01-02', 'end': '2026-03-31'}]</td>\n",
       "      <td>6.0</td>\n",
       "      <td>MAYBE</td>\n",
       "      <td>https://livekindred.com/home/clxw4tv0122faxpkp223xzgj3</td>\n",
       "      <td>The Summit at Snoqualmie</td>\n",
       "      <td>Washington</td>\n",
       "      <td>47.42044</td>\n",
       "      <td>-121.42329</td>\n",
       "      <td>79.480000</td>\n",
       "    </tr>\n",
       "    <tr>\n",
       "      <th>6</th>\n",
       "      <td>clxv9bzby216jxv2v7sj8kauf</td>\n",
       "      <td>clxv9bzby216jxv2v7sj8kauf</td>\n",
       "      <td>Traditional, dynamic house close to both shops and parks</td>\n",
       "      <td>Denver</td>\n",
       "      <td>39.768889</td>\n",
       "      <td>-105.016172</td>\n",
       "      <td>[{'start': '2025-12-01', 'end': '2026-01-31'}]</td>\n",
       "      <td>4.0</td>\n",
       "      <td>NO</td>\n",
       "      <td>https://livekindred.com/home/clxv9bzby216jxv2v7sj8kauf</td>\n",
       "      <td>Arapahoe Basin</td>\n",
       "      <td>Colorado</td>\n",
       "      <td>39.64167</td>\n",
       "      <td>-105.87167</td>\n",
       "      <td>79.981667</td>\n",
       "    </tr>\n",
       "    <tr>\n",
       "      <th>2</th>\n",
       "      <td>clfinfmk50cr4yz2rp8kl3pyn</td>\n",
       "      <td>clfinfmk50cr4yz2rp8kl3pyn</td>\n",
       "      <td>Peaceful and cozy North Beach/Ballard waterfront</td>\n",
       "      <td>Seattle</td>\n",
       "      <td>47.699893</td>\n",
       "      <td>-122.397069</td>\n",
       "      <td>[{'start': '2026-01-01', 'end': '2026-01-31'}]</td>\n",
       "      <td>4.0</td>\n",
       "      <td>MAYBE</td>\n",
       "      <td>https://livekindred.com/home/clfinfmk50cr4yz2rp8kl3pyn</td>\n",
       "      <td>The Summit at Snoqualmie</td>\n",
       "      <td>Washington</td>\n",
       "      <td>47.42044</td>\n",
       "      <td>-121.42329</td>\n",
       "      <td>80.550000</td>\n",
       "    </tr>\n",
       "    <tr>\n",
       "      <th>1</th>\n",
       "      <td>cmalv0vpu0n9v8s4ry6bmuklc</td>\n",
       "      <td>cmalv0vpu0n9v8s4ry6bmuklc</td>\n",
       "      <td>Sunny and cozy Highland home</td>\n",
       "      <td>Denver</td>\n",
       "      <td>39.759268</td>\n",
       "      <td>-105.019922</td>\n",
       "      <td>[{'start': '2026-01-04', 'end': '2026-02-07'}]</td>\n",
       "      <td>4.0</td>\n",
       "      <td>MAYBE</td>\n",
       "      <td>https://livekindred.com/home/cmalv0vpu0n9v8s4ry6bmuklc</td>\n",
       "      <td>Eldora Mountain</td>\n",
       "      <td>Colorado</td>\n",
       "      <td>39.93774</td>\n",
       "      <td>-105.58634</td>\n",
       "      <td>81.641667</td>\n",
       "    </tr>\n",
       "    <tr>\n",
       "      <th>2</th>\n",
       "      <td>cmd4579vf0cfykp2h8fexpqap</td>\n",
       "      <td>cmd4579vf0cfykp2h8fexpqap</td>\n",
       "      <td>Uptown Apartment</td>\n",
       "      <td>Denver</td>\n",
       "      <td>39.744739</td>\n",
       "      <td>-104.982285</td>\n",
       "      <td>[{'start': '2025-11-24', 'end': '2026-04-30'}]</td>\n",
       "      <td>2.0</td>\n",
       "      <td>NO</td>\n",
       "      <td>https://livekindred.com/home/cmd4579vf0cfykp2h8fexpqap</td>\n",
       "      <td>Eldora Mountain</td>\n",
       "      <td>Colorado</td>\n",
       "      <td>39.93774</td>\n",
       "      <td>-105.58634</td>\n",
       "      <td>82.655000</td>\n",
       "    </tr>\n",
       "    <tr>\n",
       "      <th>9</th>\n",
       "      <td>cmd9gbnuo1ckxkp2i0gezqdd4</td>\n",
       "      <td>cmd9gbnuo1ckxkp2i0gezqdd4</td>\n",
       "      <td>Sunny and charming Highland home</td>\n",
       "      <td>Denver</td>\n",
       "      <td>39.764723</td>\n",
       "      <td>-104.998479</td>\n",
       "      <td>[{'start': '2025-12-01', 'end': '2026-04-30'}]</td>\n",
       "      <td>2.0</td>\n",
       "      <td>NO</td>\n",
       "      <td>https://livekindred.com/home/cmd9gbnuo1ckxkp2i0gezqdd4</td>\n",
       "      <td>Arapahoe Basin</td>\n",
       "      <td>Colorado</td>\n",
       "      <td>39.64167</td>\n",
       "      <td>-105.87167</td>\n",
       "      <td>82.846667</td>\n",
       "    </tr>\n",
       "    <tr>\n",
       "      <th>7</th>\n",
       "      <td>cmalv0vpu0n9v8s4ry6bmuklc</td>\n",
       "      <td>cmalv0vpu0n9v8s4ry6bmuklc</td>\n",
       "      <td>Sunny and cozy Highland home</td>\n",
       "      <td>Denver</td>\n",
       "      <td>39.759268</td>\n",
       "      <td>-105.019922</td>\n",
       "      <td>[{'start': '2026-01-04', 'end': '2026-02-07'}]</td>\n",
       "      <td>4.0</td>\n",
       "      <td>MAYBE</td>\n",
       "      <td>https://livekindred.com/home/cmalv0vpu0n9v8s4ry6bmuklc</td>\n",
       "      <td>Arapahoe Basin</td>\n",
       "      <td>Colorado</td>\n",
       "      <td>39.64167</td>\n",
       "      <td>-105.87167</td>\n",
       "      <td>82.861667</td>\n",
       "    </tr>\n",
       "    <tr>\n",
       "      <th>8</th>\n",
       "      <td>cmd4579vf0cfykp2h8fexpqap</td>\n",
       "      <td>cmd4579vf0cfykp2h8fexpqap</td>\n",
       "      <td>Uptown Apartment</td>\n",
       "      <td>Denver</td>\n",
       "      <td>39.744739</td>\n",
       "      <td>-104.982285</td>\n",
       "      <td>[{'start': '2025-11-24', 'end': '2026-04-30'}]</td>\n",
       "      <td>2.0</td>\n",
       "      <td>NO</td>\n",
       "      <td>https://livekindred.com/home/cmd4579vf0cfykp2h8fexpqap</td>\n",
       "      <td>Arapahoe Basin</td>\n",
       "      <td>Colorado</td>\n",
       "      <td>39.64167</td>\n",
       "      <td>-105.87167</td>\n",
       "      <td>82.866667</td>\n",
       "    </tr>\n",
       "    <tr>\n",
       "      <th>11</th>\n",
       "      <td>cltrit92t11tsgqn31c81cp9z</td>\n",
       "      <td>cltrit92t11tsgqn31c81cp9z</td>\n",
       "      <td>Cozy Space with Quaint and Private Patio</td>\n",
       "      <td>Denver</td>\n",
       "      <td>39.740647</td>\n",
       "      <td>-104.968377</td>\n",
       "      <td>[{'start': '2026-01-01', 'end': '2026-04-30'}]</td>\n",
       "      <td>4.0</td>\n",
       "      <td>NO</td>\n",
       "      <td>https://livekindred.com/home/cltrit92t11tsgqn31c81cp9z</td>\n",
       "      <td>Arapahoe Basin</td>\n",
       "      <td>Colorado</td>\n",
       "      <td>39.64167</td>\n",
       "      <td>-105.87167</td>\n",
       "      <td>84.738333</td>\n",
       "    </tr>\n",
       "  </tbody>\n",
       "</table>\n",
       "</div>"
      ],
      "text/plain": [
       "                           id                    home_id  \\\n",
       "2   cm7pnegd92dgaua71wkws2jku  cm7pnegd92dgaua71wkws2jku   \n",
       "11  clxqab08t339t2sbcsf7y7bov  clxqab08t339t2sbcsf7y7bov   \n",
       "3   clxvvq4mc0uaixpkpximc84j4  clxvvq4mc0uaixpkpximc84j4   \n",
       "3   clixdrhjs06usm33a0vhettz1  clixdrhjs06usm33a0vhettz1   \n",
       "0   cm560fcoe0jjwjalp4jxwc03y  cm560fcoe0jjwjalp4jxwc03y   \n",
       "3   clixdrhjs06usm33a0vhettz1  clixdrhjs06usm33a0vhettz1   \n",
       "0   cm560fcoe0jjwjalp4jxwc03y  cm560fcoe0jjwjalp4jxwc03y   \n",
       "0   cm7o64lfo4ix6lv5gbgzoza7j  cm7o64lfo4ix6lv5gbgzoza7j   \n",
       "13  cmfcy7c4801nekk2jncm9sq9w  cmfcy7c4801nekk2jncm9sq9w   \n",
       "1   cm96dpm9993u4lio8oe42u03j  cm96dpm9993u4lio8oe42u03j   \n",
       "1   cm96dpm9993u4lio8oe42u03j  cm96dpm9993u4lio8oe42u03j   \n",
       "1   cmcc9mg2j004z14fdbsqmwz70  cmcc9mg2j004z14fdbsqmwz70   \n",
       "11  cmb60178d0569sk8v9de2oeip  cmb60178d0569sk8v9de2oeip   \n",
       "7   cm0lhsa252evxj8q9bnxwofer  cm0lhsa252evxj8q9bnxwofer   \n",
       "5   cm0dfko0k0omf115o4v6v6h4k  cm0dfko0k0omf115o4v6v6h4k   \n",
       "2   cmdgkby57020gm12iw69bzrlb  cmdgkby57020gm12iw69bzrlb   \n",
       "3   cm3kfvxml3nub215r08wyc68a  cm3kfvxml3nub215r08wyc68a   \n",
       "1   clow7abv603rokh394a0o1p5n  clow7abv603rokh394a0o1p5n   \n",
       "4   cm6cwycrrbr2a4fidthq0itc6  cm6cwycrrbr2a4fidthq0itc6   \n",
       "10  cmawmf24l0zio13emsha3fxhd  cmawmf24l0zio13emsha3fxhd   \n",
       "11  cm0ydv6r93vobr3331eoujv6a  cm0ydv6r93vobr3331eoujv6a   \n",
       "0   cmdgkby57020gm12iw69bzrlb  cmdgkby57020gm12iw69bzrlb   \n",
       "8   cm12ls8st5zof4dzm45gmkoip  cm12ls8st5zof4dzm45gmkoip   \n",
       "8   cmfq5tga70pkhks2avdvjowgg  cmfq5tga70pkhks2avdvjowgg   \n",
       "0   cmg9ymoos007jm22aom4je9d0  cmg9ymoos007jm22aom4je9d0   \n",
       "4   cmfq5tga70pkhks2avdvjowgg  cmfq5tga70pkhks2avdvjowgg   \n",
       "5   clm82w1uj1eoom03bgjpt8rug  clm82w1uj1eoom03bgjpt8rug   \n",
       "7   cmdgkby57020gm12iw69bzrlb  cmdgkby57020gm12iw69bzrlb   \n",
       "7   clof68s5k0hg9m9387k9ud9bi  clof68s5k0hg9m9387k9ud9bi   \n",
       "0   clxv9bzby216jxv2v7sj8kauf  clxv9bzby216jxv2v7sj8kauf   \n",
       "10  cmd9gbnuo1ckxkp2i0gezqdd4  cmd9gbnuo1ckxkp2i0gezqdd4   \n",
       "9   clxw4tv0122faxpkp223xzgj3  clxw4tv0122faxpkp223xzgj3   \n",
       "6   clxv9bzby216jxv2v7sj8kauf  clxv9bzby216jxv2v7sj8kauf   \n",
       "2   clfinfmk50cr4yz2rp8kl3pyn  clfinfmk50cr4yz2rp8kl3pyn   \n",
       "1   cmalv0vpu0n9v8s4ry6bmuklc  cmalv0vpu0n9v8s4ry6bmuklc   \n",
       "2   cmd4579vf0cfykp2h8fexpqap  cmd4579vf0cfykp2h8fexpqap   \n",
       "9   cmd9gbnuo1ckxkp2i0gezqdd4  cmd9gbnuo1ckxkp2i0gezqdd4   \n",
       "7   cmalv0vpu0n9v8s4ry6bmuklc  cmalv0vpu0n9v8s4ry6bmuklc   \n",
       "8   cmd4579vf0cfykp2h8fexpqap  cmd4579vf0cfykp2h8fexpqap   \n",
       "11  cltrit92t11tsgqn31c81cp9z  cltrit92t11tsgqn31c81cp9z   \n",
       "\n",
       "                                                         title  \\\n",
       "2                           Cozy Sandy home close to mountains   \n",
       "11           Peaceful, Open and Sunny Downtown Vancouver Nest!   \n",
       "3                Central and spacious Yaletown Vancouver condo   \n",
       "3                          Peaceful and sunny Sugar House home   \n",
       "0                         Peaceful and sunny Central City home   \n",
       "3                          Peaceful and sunny Sugar House home   \n",
       "0                         Peaceful and sunny Central City home   \n",
       "0                                            Rabbit Creek home   \n",
       "13              Peaceful and spacious 1-bedroom home 750 Sq.Ft   \n",
       "1                          Spacious and Historic Downtown Loft   \n",
       "1                          Spacious and Historic Downtown Loft   \n",
       "1                          Peaceful and stylish Downtown home.   \n",
       "11                                       Peaceful Boulder home   \n",
       "7               Family-Friendly & Spacious Port Coquitlam home   \n",
       "5                      Spacious 1,000 sq.ft. Private Suite YVR   \n",
       "2                      Sunny mountain home with stunning views   \n",
       "3                          Modern townhouse with rooftop views   \n",
       "1                      Chic and cozy home with private balcony   \n",
       "4                    Peaceful and charming Madison Valley home   \n",
       "10          Stunning Seattle Escape -Rooftop view Space Needle   \n",
       "11                 Peaceful and sunny Inglewood-Finn Hill home   \n",
       "0                      Sunny mountain home with stunning views   \n",
       "8                Family-Friendly Home in Walkable West Seattle   \n",
       "8                             Historic and cozy brick bungalow   \n",
       "0                       Rustic Vermont Farm Stay - Shady Grove   \n",
       "4                             Historic and cozy brick bungalow   \n",
       "5                Layered, glamorous space just off of Wolf Bay   \n",
       "7                      Sunny mountain home with stunning views   \n",
       "7                         Chic and serene family-friendly home   \n",
       "0     Traditional, dynamic house close to both shops and parks   \n",
       "10                            Sunny and charming Highland home   \n",
       "9   North Seattle mid century art filled home with water views   \n",
       "6     Traditional, dynamic house close to both shops and parks   \n",
       "2             Peaceful and cozy North Beach/Ballard waterfront   \n",
       "1                                 Sunny and cozy Highland home   \n",
       "2                                             Uptown Apartment   \n",
       "9                             Sunny and charming Highland home   \n",
       "7                                 Sunny and cozy Highland home   \n",
       "8                                             Uptown Apartment   \n",
       "11                    Cozy Space with Quaint and Private Patio   \n",
       "\n",
       "         destination   latitude   longitude  \\\n",
       "2              Sandy  40.545481 -111.853475   \n",
       "11         Vancouver  49.283194 -123.136111   \n",
       "3          Vancouver  49.279504 -123.118394   \n",
       "3     Salt Lake City  40.727282 -111.851052   \n",
       "0     Salt Lake City  40.704993 -111.875864   \n",
       "3     Salt Lake City  40.727282 -111.851052   \n",
       "0     Salt Lake City  40.704993 -111.875864   \n",
       "0          Anchorage  61.069359 -149.792584   \n",
       "13         Vancouver  49.258707 -123.143547   \n",
       "1     Salt Lake City  40.767432 -111.899361   \n",
       "1     Salt Lake City  40.767432 -111.899361   \n",
       "1          Anchorage  61.212555 -149.891070   \n",
       "11           Boulder  40.035121 -105.302368   \n",
       "7     Port Coquitlam  49.238094 -122.785163   \n",
       "5           Richmond  49.178778 -123.108052   \n",
       "2             Golden  39.707317 -105.280928   \n",
       "3            Seattle  47.596879 -122.296110   \n",
       "1            Seattle  47.618067 -122.327906   \n",
       "4            Seattle  47.618003 -122.297579   \n",
       "10           Seattle  47.624902 -122.362803   \n",
       "11          Kirkland  47.708678 -122.220509   \n",
       "0             Golden  39.707317 -105.280928   \n",
       "8            Seattle  47.584006 -122.389334   \n",
       "8             Denver  39.781190 -105.052985   \n",
       "0              Wells  43.433398  -73.131573   \n",
       "4             Denver  39.781190 -105.052985   \n",
       "5            Seattle  47.665387 -122.275984   \n",
       "7             Golden  39.707317 -105.280928   \n",
       "7            Seattle  47.512252 -122.358935   \n",
       "0             Denver  39.768889 -105.016172   \n",
       "10            Denver  39.764723 -104.998479   \n",
       "9   Lake Forest Park  47.735233 -122.285061   \n",
       "6             Denver  39.768889 -105.016172   \n",
       "2            Seattle  47.699893 -122.397069   \n",
       "1             Denver  39.759268 -105.019922   \n",
       "2             Denver  39.744739 -104.982285   \n",
       "9             Denver  39.764723 -104.998479   \n",
       "7             Denver  39.759268 -105.019922   \n",
       "8             Denver  39.744739 -104.982285   \n",
       "11            Denver  39.740647 -104.968377   \n",
       "\n",
       "                                    availabilities  guests pet_preference  \\\n",
       "2   [{'start': '2026-01-15', 'end': '2026-01-19'}]     4.0             NO   \n",
       "11  [{'start': '2026-01-15', 'end': '2026-01-26'}]     2.0             NO   \n",
       "3   [{'start': '2025-12-11', 'end': '2026-03-31'}]     3.0             NO   \n",
       "3   [{'start': '2025-12-01', 'end': '2026-01-29'}]     2.0          MAYBE   \n",
       "0   [{'start': '2026-01-08', 'end': '2026-02-20'}]     4.0          MAYBE   \n",
       "3   [{'start': '2025-12-01', 'end': '2026-01-29'}]     2.0          MAYBE   \n",
       "0   [{'start': '2026-01-08', 'end': '2026-02-20'}]     4.0          MAYBE   \n",
       "0   [{'start': '2025-10-16', 'end': '2026-03-01'}]     8.0          MAYBE   \n",
       "13  [{'start': '2025-10-16', 'end': '2026-04-30'}]     2.0          MAYBE   \n",
       "1   [{'start': '2026-01-17', 'end': '2026-01-24'}]     4.0          MAYBE   \n",
       "1   [{'start': '2026-01-17', 'end': '2026-01-24'}]     4.0          MAYBE   \n",
       "1   [{'start': '2025-10-16', 'end': '2026-03-31'}]     6.0          MAYBE   \n",
       "11  [{'start': '2025-11-26', 'end': '2026-02-28'}]     2.0          MAYBE   \n",
       "7   [{'start': '2026-01-06', 'end': '2026-01-31'}]     6.0          MAYBE   \n",
       "5   [{'start': '2025-12-20', 'end': '2026-04-30'}]     2.0             NO   \n",
       "2   [{'start': '2026-01-16', 'end': '2026-01-23'}]     4.0          MAYBE   \n",
       "3   [{'start': '2026-01-16', 'end': '2026-01-24'}]     2.0          MAYBE   \n",
       "1   [{'start': '2026-01-15', 'end': '2026-01-19'}]     2.0             NO   \n",
       "4   [{'start': '2026-01-16', 'end': '2026-01-19'}]     2.0          MAYBE   \n",
       "10  [{'start': '2026-01-16', 'end': '2026-01-19'}]    10.0          MAYBE   \n",
       "11  [{'start': '2026-01-04', 'end': '2026-04-30'}]     6.0          MAYBE   \n",
       "0   [{'start': '2026-01-16', 'end': '2026-01-23'}]     4.0          MAYBE   \n",
       "8   [{'start': '2026-01-14', 'end': '2026-01-20'}]     8.0          MAYBE   \n",
       "8   [{'start': '2026-01-01', 'end': '2026-03-28'}]     6.0            YES   \n",
       "0   [{'start': '2026-01-06', 'end': '2026-04-30'}]     2.0             NO   \n",
       "4   [{'start': '2026-01-01', 'end': '2026-03-28'}]     6.0            YES   \n",
       "5   [{'start': '2025-10-16', 'end': '2026-04-30'}]     2.0             NO   \n",
       "7   [{'start': '2026-01-16', 'end': '2026-01-23'}]     4.0          MAYBE   \n",
       "7   [{'start': '2026-01-14', 'end': '2026-01-19'}]     5.0             NO   \n",
       "0   [{'start': '2025-12-01', 'end': '2026-01-31'}]     4.0             NO   \n",
       "10  [{'start': '2025-12-01', 'end': '2026-04-30'}]     2.0             NO   \n",
       "9   [{'start': '2026-01-02', 'end': '2026-03-31'}]     6.0          MAYBE   \n",
       "6   [{'start': '2025-12-01', 'end': '2026-01-31'}]     4.0             NO   \n",
       "2   [{'start': '2026-01-01', 'end': '2026-01-31'}]     4.0          MAYBE   \n",
       "1   [{'start': '2026-01-04', 'end': '2026-02-07'}]     4.0          MAYBE   \n",
       "2   [{'start': '2025-11-24', 'end': '2026-04-30'}]     2.0             NO   \n",
       "9   [{'start': '2025-12-01', 'end': '2026-04-30'}]     2.0             NO   \n",
       "7   [{'start': '2026-01-04', 'end': '2026-02-07'}]     4.0          MAYBE   \n",
       "8   [{'start': '2025-11-24', 'end': '2026-04-30'}]     2.0             NO   \n",
       "11  [{'start': '2026-01-01', 'end': '2026-04-30'}]     4.0             NO   \n",
       "\n",
       "                                                  home_url  \\\n",
       "2   https://livekindred.com/home/cm7pnegd92dgaua71wkws2jku   \n",
       "11  https://livekindred.com/home/clxqab08t339t2sbcsf7y7bov   \n",
       "3   https://livekindred.com/home/clxvvq4mc0uaixpkpximc84j4   \n",
       "3   https://livekindred.com/home/clixdrhjs06usm33a0vhettz1   \n",
       "0   https://livekindred.com/home/cm560fcoe0jjwjalp4jxwc03y   \n",
       "3   https://livekindred.com/home/clixdrhjs06usm33a0vhettz1   \n",
       "0   https://livekindred.com/home/cm560fcoe0jjwjalp4jxwc03y   \n",
       "0   https://livekindred.com/home/cm7o64lfo4ix6lv5gbgzoza7j   \n",
       "13  https://livekindred.com/home/cmfcy7c4801nekk2jncm9sq9w   \n",
       "1   https://livekindred.com/home/cm96dpm9993u4lio8oe42u03j   \n",
       "1   https://livekindred.com/home/cm96dpm9993u4lio8oe42u03j   \n",
       "1   https://livekindred.com/home/cmcc9mg2j004z14fdbsqmwz70   \n",
       "11  https://livekindred.com/home/cmb60178d0569sk8v9de2oeip   \n",
       "7   https://livekindred.com/home/cm0lhsa252evxj8q9bnxwofer   \n",
       "5   https://livekindred.com/home/cm0dfko0k0omf115o4v6v6h4k   \n",
       "2   https://livekindred.com/home/cmdgkby57020gm12iw69bzrlb   \n",
       "3   https://livekindred.com/home/cm3kfvxml3nub215r08wyc68a   \n",
       "1   https://livekindred.com/home/clow7abv603rokh394a0o1p5n   \n",
       "4   https://livekindred.com/home/cm6cwycrrbr2a4fidthq0itc6   \n",
       "10  https://livekindred.com/home/cmawmf24l0zio13emsha3fxhd   \n",
       "11  https://livekindred.com/home/cm0ydv6r93vobr3331eoujv6a   \n",
       "0   https://livekindred.com/home/cmdgkby57020gm12iw69bzrlb   \n",
       "8   https://livekindred.com/home/cm12ls8st5zof4dzm45gmkoip   \n",
       "8   https://livekindred.com/home/cmfq5tga70pkhks2avdvjowgg   \n",
       "0   https://livekindred.com/home/cmg9ymoos007jm22aom4je9d0   \n",
       "4   https://livekindred.com/home/cmfq5tga70pkhks2avdvjowgg   \n",
       "5   https://livekindred.com/home/clm82w1uj1eoom03bgjpt8rug   \n",
       "7   https://livekindred.com/home/cmdgkby57020gm12iw69bzrlb   \n",
       "7   https://livekindred.com/home/clof68s5k0hg9m9387k9ud9bi   \n",
       "0   https://livekindred.com/home/clxv9bzby216jxv2v7sj8kauf   \n",
       "10  https://livekindred.com/home/cmd9gbnuo1ckxkp2i0gezqdd4   \n",
       "9   https://livekindred.com/home/clxw4tv0122faxpkp223xzgj3   \n",
       "6   https://livekindred.com/home/clxv9bzby216jxv2v7sj8kauf   \n",
       "2   https://livekindred.com/home/clfinfmk50cr4yz2rp8kl3pyn   \n",
       "1   https://livekindred.com/home/cmalv0vpu0n9v8s4ry6bmuklc   \n",
       "2   https://livekindred.com/home/cmd4579vf0cfykp2h8fexpqap   \n",
       "9   https://livekindred.com/home/cmd9gbnuo1ckxkp2i0gezqdd4   \n",
       "7   https://livekindred.com/home/cmalv0vpu0n9v8s4ry6bmuklc   \n",
       "8   https://livekindred.com/home/cmd4579vf0cfykp2h8fexpqap   \n",
       "11  https://livekindred.com/home/cltrit92t11tsgqn31c81cp9z   \n",
       "\n",
       "                      resort             state  resort_lat  resort_lon  \\\n",
       "2                       Alta              Utah    40.58827  -111.63799   \n",
       "11          Cypress Mountain  British Columbia    49.39602  -123.20681   \n",
       "3           Cypress Mountain  British Columbia    49.39602  -123.20681   \n",
       "3                Deer Valley              Utah    40.63738  -111.48049   \n",
       "0                Deer Valley              Utah    40.63738  -111.48049   \n",
       "3                       Alta              Utah    40.58827  -111.63799   \n",
       "0                       Alta              Utah    40.58827  -111.63799   \n",
       "0                    Alyeska            Alaska    60.97050  -149.09820   \n",
       "13          Cypress Mountain  British Columbia    49.39602  -123.20681   \n",
       "1                Deer Valley              Utah    40.63738  -111.48049   \n",
       "1                       Alta              Utah    40.58827  -111.63799   \n",
       "1                    Alyeska            Alaska    60.97050  -149.09820   \n",
       "11           Eldora Mountain          Colorado    39.93774  -105.58634   \n",
       "7           Cypress Mountain  British Columbia    49.39602  -123.20681   \n",
       "5           Cypress Mountain  British Columbia    49.39602  -123.20681   \n",
       "2             Arapahoe Basin          Colorado    39.64167  -105.87167   \n",
       "3   The Summit at Snoqualmie        Washington    47.42044  -121.42329   \n",
       "1   The Summit at Snoqualmie        Washington    47.42044  -121.42329   \n",
       "4   The Summit at Snoqualmie        Washington    47.42044  -121.42329   \n",
       "10  The Summit at Snoqualmie        Washington    47.42044  -121.42329   \n",
       "11  The Summit at Snoqualmie        Washington    47.42044  -121.42329   \n",
       "0            Copper Mountain          Colorado    39.50000  -106.14821   \n",
       "8   The Summit at Snoqualmie        Washington    47.42044  -121.42329   \n",
       "8            Eldora Mountain          Colorado    39.93774  -105.58634   \n",
       "0                 Killington           Vermont    43.62573   -72.79827   \n",
       "4             Arapahoe Basin          Colorado    39.64167  -105.87167   \n",
       "5   The Summit at Snoqualmie        Washington    47.42044  -121.42329   \n",
       "7            Eldora Mountain          Colorado    39.93774  -105.58634   \n",
       "7   The Summit at Snoqualmie        Washington    47.42044  -121.42329   \n",
       "0            Eldora Mountain          Colorado    39.93774  -105.58634   \n",
       "10           Eldora Mountain          Colorado    39.93774  -105.58634   \n",
       "9   The Summit at Snoqualmie        Washington    47.42044  -121.42329   \n",
       "6             Arapahoe Basin          Colorado    39.64167  -105.87167   \n",
       "2   The Summit at Snoqualmie        Washington    47.42044  -121.42329   \n",
       "1            Eldora Mountain          Colorado    39.93774  -105.58634   \n",
       "2            Eldora Mountain          Colorado    39.93774  -105.58634   \n",
       "9             Arapahoe Basin          Colorado    39.64167  -105.87167   \n",
       "7             Arapahoe Basin          Colorado    39.64167  -105.87167   \n",
       "8             Arapahoe Basin          Colorado    39.64167  -105.87167   \n",
       "11            Arapahoe Basin          Colorado    39.64167  -105.87167   \n",
       "\n",
       "    driving_time_minutes  \n",
       "2              28.720000  \n",
       "11             37.146667  \n",
       "3              37.721667  \n",
       "3              38.791667  \n",
       "0              39.891667  \n",
       "3              40.003333  \n",
       "0              41.105000  \n",
       "0              42.690000  \n",
       "13             43.910000  \n",
       "1              45.768333  \n",
       "1              46.981667  \n",
       "1              52.891667  \n",
       "11             56.138333  \n",
       "7              59.236667  \n",
       "5              59.431667  \n",
       "2              59.728333  \n",
       "3              61.373333  \n",
       "1              62.620000  \n",
       "4              65.708333  \n",
       "10             68.045000  \n",
       "11             71.270000  \n",
       "0              71.271667  \n",
       "8              72.300000  \n",
       "8              73.655000  \n",
       "0              74.620000  \n",
       "4              75.135000  \n",
       "5              75.643333  \n",
       "7              76.133333  \n",
       "7              76.290000  \n",
       "0              78.501667  \n",
       "10             78.505000  \n",
       "9              79.480000  \n",
       "6              79.981667  \n",
       "2              80.550000  \n",
       "1              81.641667  \n",
       "2              82.655000  \n",
       "9              82.846667  \n",
       "7              82.861667  \n",
       "8              82.866667  \n",
       "11             84.738333  "
      ]
     },
     "metadata": {},
     "output_type": "display_data"
    }
   ],
   "source": [
    "with pd.option_context('display.max_colwidth', None):\n",
    "    display(medium_plus_results.sort_values(by='driving_time_minutes').head(40))"
   ]
  },
  {
   "cell_type": "markdown",
   "id": "8013a760",
   "metadata": {},
   "source": [
    "# Resort stats"
   ]
  },
  {
   "cell_type": "code",
   "execution_count": 5,
   "id": "12bb134c",
   "metadata": {},
   "outputs": [
    {
     "data": {
      "text/html": [
       "<div>\n",
       "<style scoped>\n",
       "    .dataframe tbody tr th:only-of-type {\n",
       "        vertical-align: middle;\n",
       "    }\n",
       "\n",
       "    .dataframe tbody tr th {\n",
       "        vertical-align: top;\n",
       "    }\n",
       "\n",
       "    .dataframe thead th {\n",
       "        text-align: right;\n",
       "    }\n",
       "</style>\n",
       "<table border=\"1\" class=\"dataframe\">\n",
       "  <thead>\n",
       "    <tr style=\"text-align: right;\">\n",
       "      <th></th>\n",
       "      <th>resort</th>\n",
       "      <th>region</th>\n",
       "      <th>state</th>\n",
       "      <th>latitude</th>\n",
       "      <th>longitude</th>\n",
       "      <th>skiable_acres</th>\n",
       "      <th>vertical_drop</th>\n",
       "      <th>annual_snowfall</th>\n",
       "    </tr>\n",
       "  </thead>\n",
       "  <tbody>\n",
       "    <tr>\n",
       "      <th>0</th>\n",
       "      <td>Alta</td>\n",
       "      <td>Rockies</td>\n",
       "      <td>Utah</td>\n",
       "      <td>40.58827</td>\n",
       "      <td>-111.63799</td>\n",
       "      <td>2614</td>\n",
       "      <td>2538</td>\n",
       "      <td>545</td>\n",
       "    </tr>\n",
       "    <tr>\n",
       "      <th>1</th>\n",
       "      <td>Alyeska</td>\n",
       "      <td>West Coast</td>\n",
       "      <td>Alaska</td>\n",
       "      <td>60.97050</td>\n",
       "      <td>-149.09820</td>\n",
       "      <td>1400</td>\n",
       "      <td>3200</td>\n",
       "      <td>409</td>\n",
       "    </tr>\n",
       "    <tr>\n",
       "      <th>2</th>\n",
       "      <td>Arapahoe Basin</td>\n",
       "      <td>Rockies</td>\n",
       "      <td>Colorado</td>\n",
       "      <td>39.64167</td>\n",
       "      <td>-105.87167</td>\n",
       "      <td>1428</td>\n",
       "      <td>2530</td>\n",
       "      <td>350</td>\n",
       "    </tr>\n",
       "    <tr>\n",
       "      <th>3</th>\n",
       "      <td>Aspen Highlands</td>\n",
       "      <td>Rockies</td>\n",
       "      <td>Colorado</td>\n",
       "      <td>39.18226</td>\n",
       "      <td>-106.85768</td>\n",
       "      <td>1010</td>\n",
       "      <td>3638</td>\n",
       "      <td>300</td>\n",
       "    </tr>\n",
       "    <tr>\n",
       "      <th>4</th>\n",
       "      <td>Aspen Mountain</td>\n",
       "      <td>Rockies</td>\n",
       "      <td>Colorado</td>\n",
       "      <td>39.18626</td>\n",
       "      <td>-106.82042</td>\n",
       "      <td>673</td>\n",
       "      <td>3267</td>\n",
       "      <td>300</td>\n",
       "    </tr>\n",
       "  </tbody>\n",
       "</table>\n",
       "</div>"
      ],
      "text/plain": [
       "            resort      region     state  latitude  longitude  skiable_acres  \\\n",
       "0             Alta     Rockies      Utah  40.58827 -111.63799           2614   \n",
       "1          Alyeska  West Coast    Alaska  60.97050 -149.09820           1400   \n",
       "2   Arapahoe Basin     Rockies  Colorado  39.64167 -105.87167           1428   \n",
       "3  Aspen Highlands     Rockies  Colorado  39.18226 -106.85768           1010   \n",
       "4   Aspen Mountain     Rockies  Colorado  39.18626 -106.82042            673   \n",
       "\n",
       "   vertical_drop  annual_snowfall  \n",
       "0           2538              545  \n",
       "1           3200              409  \n",
       "2           2530              350  \n",
       "3           3638              300  \n",
       "4           3267              300  "
      ]
     },
     "execution_count": 5,
     "metadata": {},
     "output_type": "execute_result"
    }
   ],
   "source": [
    "locations.head()"
   ]
  },
  {
   "cell_type": "code",
   "execution_count": 10,
   "id": "14cb9223",
   "metadata": {},
   "outputs": [
    {
     "data": {
      "application/vnd.plotly.v1+json": {
       "config": {
        "plotlyServerURL": "https://plot.ly"
       },
       "data": [
        {
         "customdata": [
          [
           "St. Moritz"
          ],
          [
           "Dolomiti Superski"
          ],
          [
           "Chamonix Mont-Blanc"
          ],
          [
           "Zermatt"
          ],
          [
           "Grandvalira"
          ],
          [
           "Kitzbühel"
          ],
          [
           "Ischgl"
          ],
          [
           "Courmayeur Mont Blanc"
          ],
          [
           "Pila"
          ],
          [
           "Monterosa Ski"
          ],
          [
           "La Thuile - Espace San Bernardo"
          ],
          [
           "Cervino Ski Paradise"
          ]
         ],
         "hovertemplate": "region=Europe<br>skiable_acres=%{x}<br>vertical_drop=%{y}<br>resort=%{customdata[0]}<extra></extra>",
         "legendgroup": "Europe",
         "marker": {
          "color": "#636efa",
          "symbol": "circle"
         },
         "mode": "markers",
         "name": "Europe",
         "orientation": "v",
         "showlegend": true,
         "type": "scatter",
         "x": {
          "bdata": "11EBANRzAADdcgAAECcAABAnAABkFgAA+QQAAAAAAAAAAAAAAAAAAAAAAAAAAAAA",
          "dtype": "i4"
         },
         "xaxis": "x",
         "y": {
          "bdata": "IhFCF54cNR3rC2EPKBN0E94OcBpeDsYX",
          "dtype": "i2"
         },
         "yaxis": "y"
        },
        {
         "customdata": [
          [
           "Palisades Tahoe"
          ],
          [
           "Mt. Bachelor"
          ],
          [
           "Mammoth Mountain"
          ],
          [
           "Crystal Mountain"
          ],
          [
           "Sierra-at-Tahoe"
          ],
          [
           "The Summit at Snoqualmie"
          ],
          [
           "June Mountain"
          ],
          [
           "Alyeska"
          ],
          [
           "Big Bear Mountain Resort"
          ],
          [
           "Cypress Mountain"
          ],
          [
           "Snow Valley"
          ]
         ],
         "hovertemplate": "region=West Coast<br>skiable_acres=%{x}<br>vertical_drop=%{y}<br>resort=%{customdata[0]}<extra></extra>",
         "legendgroup": "West Coast",
         "marker": {
          "color": "#EF553B",
          "symbol": "circle"
         },
         "mode": "markers",
         "name": "West Coast",
         "orientation": "v",
         "showlegend": true,
         "type": "scatter",
         "x": {
          "bdata": "cBfeEKwNKArQB8oH3AV4BaYCWALwAA==",
          "dtype": "i2"
         },
         "xaxis": "x",
         "y": {
          "bdata": "IgslDRwMHAykCAEEHgqADIEG2AcRBA==",
          "dtype": "i2"
         },
         "yaxis": "y"
        },
        {
         "customdata": [
          [
           "Big Sky"
          ],
          [
           "Sun Peaks Resort"
          ],
          [
           "Lake Louise"
          ],
          [
           "RED Mountain"
          ],
          [
           "Steamboat"
          ],
          [
           "Deer Valley"
          ],
          [
           "Snowmass"
          ],
          [
           "Banff Sunshine"
          ],
          [
           "Revelstoke"
          ],
          [
           "Winter Park"
          ],
          [
           "Snowbasin"
          ],
          [
           "Panorama"
          ],
          [
           "Schweitzer"
          ],
          [
           "Alta"
          ],
          [
           "Copper Mountain"
          ],
          [
           "Snowbird"
          ],
          [
           "Jackson Hole"
          ],
          [
           "Sun Valley"
          ],
          [
           "Arapahoe Basin"
          ],
          [
           "Taos"
          ],
          [
           "Solitude"
          ],
          [
           "Brighton"
          ],
          [
           "Aspen Highlands"
          ],
          [
           "Eldora Mountain"
          ],
          [
           "Aspen Mountain"
          ],
          [
           "Buttermilk"
          ],
          [
           "Norquay"
          ]
         ],
         "hovertemplate": "region=Rockies<br>skiable_acres=%{x}<br>vertical_drop=%{y}<br>resort=%{customdata[0]}<extra></extra>",
         "legendgroup": "Rockies",
         "marker": {
          "color": "#00cc96",
          "symbol": "circle"
         },
         "mode": "markers",
         "name": "Rockies",
         "orientation": "v",
         "showlegend": true,
         "type": "scatter",
         "x": {
          "bdata": "2hauEGgQCg+dDnQOIg0eDTEMCQy4C58LVAs2CuoJxAnECQYIlAUOBbAEGgTyA6gCoQKzAb4A",
          "dtype": "i2"
         },
         "xaxis": "x",
         "y": {
          "bdata": "/hBOC7MMZwtUDuALNhG2DfQV9AuPC6kQiAnqCSkKqAwrEEgN4gnRDL4J0QY2DtgEwwzuB3IG",
          "dtype": "i2"
         },
         "yaxis": "y"
        },
        {
         "customdata": [
          [
           "Niseko United"
          ],
          [
           "Lotte Arai Resort"
          ]
         ],
         "hovertemplate": "region=Japan<br>skiable_acres=%{x}<br>vertical_drop=%{y}<br>resort=%{customdata[0]}<extra></extra>",
         "legendgroup": "Japan",
         "marker": {
          "color": "#ab63fa",
          "symbol": "circle"
         },
         "mode": "markers",
         "name": "Japan",
         "orientation": "v",
         "showlegend": true,
         "type": "scatter",
         "x": {
          "bdata": "SQsRAg==",
          "dtype": "i2"
         },
         "xaxis": "x",
         "y": {
          "bdata": "bg0wDA==",
          "dtype": "i2"
         },
         "yaxis": "y"
        },
        {
         "customdata": [
          [
           "Valle Nevado"
          ]
         ],
         "hovertemplate": "region=South America<br>skiable_acres=%{x}<br>vertical_drop=%{y}<br>resort=%{customdata[0]}<extra></extra>",
         "legendgroup": "South America",
         "marker": {
          "color": "#FFA15A",
          "symbol": "circle"
         },
         "mode": "markers",
         "name": "South America",
         "orientation": "v",
         "showlegend": true,
         "type": "scatter",
         "x": {
          "bdata": "mAg=",
          "dtype": "i2"
         },
         "xaxis": "x",
         "y": {
          "bdata": "YQo=",
          "dtype": "i2"
         },
         "yaxis": "y"
        },
        {
         "customdata": [
          [
           "Killington"
          ],
          [
           "Sugarloaf"
          ],
          [
           "Sunday River"
          ],
          [
           "Stratton"
          ],
          [
           "Tremblant"
          ],
          [
           "Sugarbush"
          ],
          [
           "Pico"
          ],
          [
           "Le Massif de Charlevoix"
          ],
          [
           "Loon Mountain"
          ],
          [
           "Cranmore"
          ],
          [
           "Jiminy Peak"
          ]
         ],
         "hovertemplate": "region=Northeast<br>skiable_acres=%{x}<br>vertical_drop=%{y}<br>resort=%{customdata[0]}<extra></extra>",
         "legendgroup": "Northeast",
         "marker": {
          "color": "#19d3f3",
          "symbol": "circle"
         },
         "mode": "markers",
         "name": "Northeast",
         "orientation": "v",
         "showlegend": true,
         "type": "scatter",
         "x": {
          "bdata": "5QXYBGYDngJ2AkUC1AGWAXIBqgCnAA==",
          "dtype": "i2"
         },
         "xaxis": "x",
         "y": {
          "bdata": "6gsECyQJ0wdECCgKrwfeCTQIsAR+BA==",
          "dtype": "i2"
         },
         "yaxis": "y"
        },
        {
         "customdata": [
          [
           "Thredbo"
          ],
          [
           "Mt Hutt"
          ],
          [
           "Mt Buller"
          ],
          [
           "Coronet Peak"
          ],
          [
           "The Remarkables"
          ]
         ],
         "hovertemplate": "region=Australia / New Zealand<br>skiable_acres=%{x}<br>vertical_drop=%{y}<br>resort=%{customdata[0]}<extra></extra>",
         "legendgroup": "Australia / New Zealand",
         "marker": {
          "color": "#FF6692",
          "symbol": "circle"
         },
         "mode": "markers",
         "name": "Australia / New Zealand",
         "orientation": "v",
         "showlegend": true,
         "type": "scatter",
         "x": {
          "bdata": "ogSGA+UCswLcAA==",
          "dtype": "i2"
         },
         "xaxis": "x",
         "y": {
          "bdata": "nQjBCIMF7AWTBA==",
          "dtype": "i2"
         },
         "yaxis": "y"
        },
        {
         "customdata": [
          [
           "The Highlands"
          ],
          [
           "Boyne Mountain"
          ],
          [
           "Blue Mountain"
          ],
          [
           "Wild Mountain"
          ],
          [
           "Buck Hill"
          ]
         ],
         "hovertemplate": "region=Midwest<br>skiable_acres=%{x}<br>vertical_drop=%{y}<br>resort=%{customdata[0]}<extra></extra>",
         "legendgroup": "Midwest",
         "marker": {
          "color": "#B6E880",
          "symbol": "circle"
         },
         "mode": "markers",
         "name": "Midwest",
         "orientation": "v",
         "showlegend": true,
         "type": "scatter",
         "x": {
          "bdata": "swGfAWwBZAAtAA==",
          "dtype": "i2"
         },
         "xaxis": "x",
         "y": {
          "bdata": "KAL0AdACLAEGAQ==",
          "dtype": "i2"
         },
         "yaxis": "y"
        },
        {
         "customdata": [
          [
           "Snowshoe"
          ],
          [
           "Camelback Resort"
          ],
          [
           "Blue Mountain Resort"
          ]
         ],
         "hovertemplate": "region=Mid-Atlantic<br>skiable_acres=%{x}<br>vertical_drop=%{y}<br>resort=%{customdata[0]}<extra></extra>",
         "legendgroup": "Mid-Atlantic",
         "marker": {
          "color": "#FF97FF",
          "symbol": "circle"
         },
         "mode": "markers",
         "name": "Mid-Atlantic",
         "orientation": "v",
         "showlegend": true,
         "type": "scatter",
         "x": {
          "bdata": "AQGmAKQA",
          "dtype": "i2"
         },
         "xaxis": "x",
         "y": {
          "bdata": "3AUgAzwE",
          "dtype": "i2"
         },
         "yaxis": "y"
        }
       ],
       "layout": {
        "legend": {
         "title": {
          "text": "region"
         },
         "tracegroupgap": 0
        },
        "template": {
         "data": {
          "bar": [
           {
            "error_x": {
             "color": "#2a3f5f"
            },
            "error_y": {
             "color": "#2a3f5f"
            },
            "marker": {
             "line": {
              "color": "#E5ECF6",
              "width": 0.5
             },
             "pattern": {
              "fillmode": "overlay",
              "size": 10,
              "solidity": 0.2
             }
            },
            "type": "bar"
           }
          ],
          "barpolar": [
           {
            "marker": {
             "line": {
              "color": "#E5ECF6",
              "width": 0.5
             },
             "pattern": {
              "fillmode": "overlay",
              "size": 10,
              "solidity": 0.2
             }
            },
            "type": "barpolar"
           }
          ],
          "carpet": [
           {
            "aaxis": {
             "endlinecolor": "#2a3f5f",
             "gridcolor": "white",
             "linecolor": "white",
             "minorgridcolor": "white",
             "startlinecolor": "#2a3f5f"
            },
            "baxis": {
             "endlinecolor": "#2a3f5f",
             "gridcolor": "white",
             "linecolor": "white",
             "minorgridcolor": "white",
             "startlinecolor": "#2a3f5f"
            },
            "type": "carpet"
           }
          ],
          "choropleth": [
           {
            "colorbar": {
             "outlinewidth": 0,
             "ticks": ""
            },
            "type": "choropleth"
           }
          ],
          "contour": [
           {
            "colorbar": {
             "outlinewidth": 0,
             "ticks": ""
            },
            "colorscale": [
             [
              0,
              "#0d0887"
             ],
             [
              0.1111111111111111,
              "#46039f"
             ],
             [
              0.2222222222222222,
              "#7201a8"
             ],
             [
              0.3333333333333333,
              "#9c179e"
             ],
             [
              0.4444444444444444,
              "#bd3786"
             ],
             [
              0.5555555555555556,
              "#d8576b"
             ],
             [
              0.6666666666666666,
              "#ed7953"
             ],
             [
              0.7777777777777778,
              "#fb9f3a"
             ],
             [
              0.8888888888888888,
              "#fdca26"
             ],
             [
              1,
              "#f0f921"
             ]
            ],
            "type": "contour"
           }
          ],
          "contourcarpet": [
           {
            "colorbar": {
             "outlinewidth": 0,
             "ticks": ""
            },
            "type": "contourcarpet"
           }
          ],
          "heatmap": [
           {
            "colorbar": {
             "outlinewidth": 0,
             "ticks": ""
            },
            "colorscale": [
             [
              0,
              "#0d0887"
             ],
             [
              0.1111111111111111,
              "#46039f"
             ],
             [
              0.2222222222222222,
              "#7201a8"
             ],
             [
              0.3333333333333333,
              "#9c179e"
             ],
             [
              0.4444444444444444,
              "#bd3786"
             ],
             [
              0.5555555555555556,
              "#d8576b"
             ],
             [
              0.6666666666666666,
              "#ed7953"
             ],
             [
              0.7777777777777778,
              "#fb9f3a"
             ],
             [
              0.8888888888888888,
              "#fdca26"
             ],
             [
              1,
              "#f0f921"
             ]
            ],
            "type": "heatmap"
           }
          ],
          "histogram": [
           {
            "marker": {
             "pattern": {
              "fillmode": "overlay",
              "size": 10,
              "solidity": 0.2
             }
            },
            "type": "histogram"
           }
          ],
          "histogram2d": [
           {
            "colorbar": {
             "outlinewidth": 0,
             "ticks": ""
            },
            "colorscale": [
             [
              0,
              "#0d0887"
             ],
             [
              0.1111111111111111,
              "#46039f"
             ],
             [
              0.2222222222222222,
              "#7201a8"
             ],
             [
              0.3333333333333333,
              "#9c179e"
             ],
             [
              0.4444444444444444,
              "#bd3786"
             ],
             [
              0.5555555555555556,
              "#d8576b"
             ],
             [
              0.6666666666666666,
              "#ed7953"
             ],
             [
              0.7777777777777778,
              "#fb9f3a"
             ],
             [
              0.8888888888888888,
              "#fdca26"
             ],
             [
              1,
              "#f0f921"
             ]
            ],
            "type": "histogram2d"
           }
          ],
          "histogram2dcontour": [
           {
            "colorbar": {
             "outlinewidth": 0,
             "ticks": ""
            },
            "colorscale": [
             [
              0,
              "#0d0887"
             ],
             [
              0.1111111111111111,
              "#46039f"
             ],
             [
              0.2222222222222222,
              "#7201a8"
             ],
             [
              0.3333333333333333,
              "#9c179e"
             ],
             [
              0.4444444444444444,
              "#bd3786"
             ],
             [
              0.5555555555555556,
              "#d8576b"
             ],
             [
              0.6666666666666666,
              "#ed7953"
             ],
             [
              0.7777777777777778,
              "#fb9f3a"
             ],
             [
              0.8888888888888888,
              "#fdca26"
             ],
             [
              1,
              "#f0f921"
             ]
            ],
            "type": "histogram2dcontour"
           }
          ],
          "mesh3d": [
           {
            "colorbar": {
             "outlinewidth": 0,
             "ticks": ""
            },
            "type": "mesh3d"
           }
          ],
          "parcoords": [
           {
            "line": {
             "colorbar": {
              "outlinewidth": 0,
              "ticks": ""
             }
            },
            "type": "parcoords"
           }
          ],
          "pie": [
           {
            "automargin": true,
            "type": "pie"
           }
          ],
          "scatter": [
           {
            "fillpattern": {
             "fillmode": "overlay",
             "size": 10,
             "solidity": 0.2
            },
            "type": "scatter"
           }
          ],
          "scatter3d": [
           {
            "line": {
             "colorbar": {
              "outlinewidth": 0,
              "ticks": ""
             }
            },
            "marker": {
             "colorbar": {
              "outlinewidth": 0,
              "ticks": ""
             }
            },
            "type": "scatter3d"
           }
          ],
          "scattercarpet": [
           {
            "marker": {
             "colorbar": {
              "outlinewidth": 0,
              "ticks": ""
             }
            },
            "type": "scattercarpet"
           }
          ],
          "scattergeo": [
           {
            "marker": {
             "colorbar": {
              "outlinewidth": 0,
              "ticks": ""
             }
            },
            "type": "scattergeo"
           }
          ],
          "scattergl": [
           {
            "marker": {
             "colorbar": {
              "outlinewidth": 0,
              "ticks": ""
             }
            },
            "type": "scattergl"
           }
          ],
          "scattermap": [
           {
            "marker": {
             "colorbar": {
              "outlinewidth": 0,
              "ticks": ""
             }
            },
            "type": "scattermap"
           }
          ],
          "scattermapbox": [
           {
            "marker": {
             "colorbar": {
              "outlinewidth": 0,
              "ticks": ""
             }
            },
            "type": "scattermapbox"
           }
          ],
          "scatterpolar": [
           {
            "marker": {
             "colorbar": {
              "outlinewidth": 0,
              "ticks": ""
             }
            },
            "type": "scatterpolar"
           }
          ],
          "scatterpolargl": [
           {
            "marker": {
             "colorbar": {
              "outlinewidth": 0,
              "ticks": ""
             }
            },
            "type": "scatterpolargl"
           }
          ],
          "scatterternary": [
           {
            "marker": {
             "colorbar": {
              "outlinewidth": 0,
              "ticks": ""
             }
            },
            "type": "scatterternary"
           }
          ],
          "surface": [
           {
            "colorbar": {
             "outlinewidth": 0,
             "ticks": ""
            },
            "colorscale": [
             [
              0,
              "#0d0887"
             ],
             [
              0.1111111111111111,
              "#46039f"
             ],
             [
              0.2222222222222222,
              "#7201a8"
             ],
             [
              0.3333333333333333,
              "#9c179e"
             ],
             [
              0.4444444444444444,
              "#bd3786"
             ],
             [
              0.5555555555555556,
              "#d8576b"
             ],
             [
              0.6666666666666666,
              "#ed7953"
             ],
             [
              0.7777777777777778,
              "#fb9f3a"
             ],
             [
              0.8888888888888888,
              "#fdca26"
             ],
             [
              1,
              "#f0f921"
             ]
            ],
            "type": "surface"
           }
          ],
          "table": [
           {
            "cells": {
             "fill": {
              "color": "#EBF0F8"
             },
             "line": {
              "color": "white"
             }
            },
            "header": {
             "fill": {
              "color": "#C8D4E3"
             },
             "line": {
              "color": "white"
             }
            },
            "type": "table"
           }
          ]
         },
         "layout": {
          "annotationdefaults": {
           "arrowcolor": "#2a3f5f",
           "arrowhead": 0,
           "arrowwidth": 1
          },
          "autotypenumbers": "strict",
          "coloraxis": {
           "colorbar": {
            "outlinewidth": 0,
            "ticks": ""
           }
          },
          "colorscale": {
           "diverging": [
            [
             0,
             "#8e0152"
            ],
            [
             0.1,
             "#c51b7d"
            ],
            [
             0.2,
             "#de77ae"
            ],
            [
             0.3,
             "#f1b6da"
            ],
            [
             0.4,
             "#fde0ef"
            ],
            [
             0.5,
             "#f7f7f7"
            ],
            [
             0.6,
             "#e6f5d0"
            ],
            [
             0.7,
             "#b8e186"
            ],
            [
             0.8,
             "#7fbc41"
            ],
            [
             0.9,
             "#4d9221"
            ],
            [
             1,
             "#276419"
            ]
           ],
           "sequential": [
            [
             0,
             "#0d0887"
            ],
            [
             0.1111111111111111,
             "#46039f"
            ],
            [
             0.2222222222222222,
             "#7201a8"
            ],
            [
             0.3333333333333333,
             "#9c179e"
            ],
            [
             0.4444444444444444,
             "#bd3786"
            ],
            [
             0.5555555555555556,
             "#d8576b"
            ],
            [
             0.6666666666666666,
             "#ed7953"
            ],
            [
             0.7777777777777778,
             "#fb9f3a"
            ],
            [
             0.8888888888888888,
             "#fdca26"
            ],
            [
             1,
             "#f0f921"
            ]
           ],
           "sequentialminus": [
            [
             0,
             "#0d0887"
            ],
            [
             0.1111111111111111,
             "#46039f"
            ],
            [
             0.2222222222222222,
             "#7201a8"
            ],
            [
             0.3333333333333333,
             "#9c179e"
            ],
            [
             0.4444444444444444,
             "#bd3786"
            ],
            [
             0.5555555555555556,
             "#d8576b"
            ],
            [
             0.6666666666666666,
             "#ed7953"
            ],
            [
             0.7777777777777778,
             "#fb9f3a"
            ],
            [
             0.8888888888888888,
             "#fdca26"
            ],
            [
             1,
             "#f0f921"
            ]
           ]
          },
          "colorway": [
           "#636efa",
           "#EF553B",
           "#00cc96",
           "#ab63fa",
           "#FFA15A",
           "#19d3f3",
           "#FF6692",
           "#B6E880",
           "#FF97FF",
           "#FECB52"
          ],
          "font": {
           "color": "#2a3f5f"
          },
          "geo": {
           "bgcolor": "white",
           "lakecolor": "white",
           "landcolor": "#E5ECF6",
           "showlakes": true,
           "showland": true,
           "subunitcolor": "white"
          },
          "hoverlabel": {
           "align": "left"
          },
          "hovermode": "closest",
          "mapbox": {
           "style": "light"
          },
          "paper_bgcolor": "white",
          "plot_bgcolor": "#E5ECF6",
          "polar": {
           "angularaxis": {
            "gridcolor": "white",
            "linecolor": "white",
            "ticks": ""
           },
           "bgcolor": "#E5ECF6",
           "radialaxis": {
            "gridcolor": "white",
            "linecolor": "white",
            "ticks": ""
           }
          },
          "scene": {
           "xaxis": {
            "backgroundcolor": "#E5ECF6",
            "gridcolor": "white",
            "gridwidth": 2,
            "linecolor": "white",
            "showbackground": true,
            "ticks": "",
            "zerolinecolor": "white"
           },
           "yaxis": {
            "backgroundcolor": "#E5ECF6",
            "gridcolor": "white",
            "gridwidth": 2,
            "linecolor": "white",
            "showbackground": true,
            "ticks": "",
            "zerolinecolor": "white"
           },
           "zaxis": {
            "backgroundcolor": "#E5ECF6",
            "gridcolor": "white",
            "gridwidth": 2,
            "linecolor": "white",
            "showbackground": true,
            "ticks": "",
            "zerolinecolor": "white"
           }
          },
          "shapedefaults": {
           "line": {
            "color": "#2a3f5f"
           }
          },
          "ternary": {
           "aaxis": {
            "gridcolor": "white",
            "linecolor": "white",
            "ticks": ""
           },
           "baxis": {
            "gridcolor": "white",
            "linecolor": "white",
            "ticks": ""
           },
           "bgcolor": "#E5ECF6",
           "caxis": {
            "gridcolor": "white",
            "linecolor": "white",
            "ticks": ""
           }
          },
          "title": {
           "x": 0.05
          },
          "xaxis": {
           "automargin": true,
           "gridcolor": "white",
           "linecolor": "white",
           "ticks": "",
           "title": {
            "standoff": 15
           },
           "zerolinecolor": "white",
           "zerolinewidth": 2
          },
          "yaxis": {
           "automargin": true,
           "gridcolor": "white",
           "linecolor": "white",
           "ticks": "",
           "title": {
            "standoff": 15
           },
           "zerolinecolor": "white",
           "zerolinewidth": 2
          }
         }
        },
        "title": {
         "text": "Resorts by Skiable Acres and Vertical Drop"
        },
        "xaxis": {
         "anchor": "y",
         "domain": [
          0,
          1
         ],
         "title": {
          "text": "skiable_acres"
         }
        },
        "yaxis": {
         "anchor": "x",
         "domain": [
          0,
          1
         ],
         "title": {
          "text": "vertical_drop"
         }
        }
       }
      }
     },
     "metadata": {},
     "output_type": "display_data"
    }
   ],
   "source": [
    "import plotly.express as px\n",
    "\n",
    "sorted_locations = locations.sort_values('skiable_acres', ascending=False)\n",
    "fig = px.scatter(\n",
    "    sorted_locations,\n",
    "    x='skiable_acres',\n",
    "    y='vertical_drop',\n",
    "    color='region',\n",
    "    title='Resorts by Skiable Acres and Vertical Drop',\n",
    "    category_orders={'resort': sorted_locations['resort'].tolist()},\n",
    "    hover_data=['resort', 'vertical_drop', 'skiable_acres']\n",
    ")\n",
    "fig.show()\n"
   ]
  },
  {
   "cell_type": "code",
   "execution_count": 11,
   "id": "54b81399",
   "metadata": {},
   "outputs": [
    {
     "data": {
      "application/vnd.plotly.v1+json": {
       "config": {
        "plotlyServerURL": "https://plot.ly"
       },
       "data": [
        {
         "customdata": [
          [
           "St. Moritz"
          ],
          [
           "Dolomiti Superski"
          ],
          [
           "Chamonix Mont-Blanc"
          ],
          [
           "Zermatt"
          ],
          [
           "Grandvalira"
          ],
          [
           "Kitzbühel"
          ],
          [
           "Ischgl"
          ],
          [
           "Courmayeur Mont Blanc"
          ],
          [
           "Pila"
          ],
          [
           "Monterosa Ski"
          ],
          [
           "La Thuile - Espace San Bernardo"
          ],
          [
           "Cervino Ski Paradise"
          ]
         ],
         "hovertemplate": "region=Europe<br>skiable_acres=%{x}<br>annual_snowfall=%{y}<br>resort=%{customdata[0]}<extra></extra>",
         "legendgroup": "Europe",
         "marker": {
          "color": "#636efa",
          "symbol": "circle"
         },
         "mode": "markers",
         "name": "Europe",
         "orientation": "v",
         "showlegend": true,
         "type": "scatter",
         "x": {
          "bdata": "11EBANRzAADdcgAAECcAABAnAABkFgAA+QQAAAAAAAAAAAAAAAAAAAAAAAAAAAAA",
          "dtype": "i4"
         },
         "xaxis": "x",
         "y": {
          "bdata": "cQEsAQgBxwDYACwB9ABzAAAAaAClAN8A",
          "dtype": "i2"
         },
         "yaxis": "y"
        },
        {
         "customdata": [
          [
           "Palisades Tahoe"
          ],
          [
           "Mt. Bachelor"
          ],
          [
           "Mammoth Mountain"
          ],
          [
           "Crystal Mountain"
          ],
          [
           "Sierra-at-Tahoe"
          ],
          [
           "The Summit at Snoqualmie"
          ],
          [
           "June Mountain"
          ],
          [
           "Alyeska"
          ],
          [
           "Big Bear Mountain Resort"
          ],
          [
           "Cypress Mountain"
          ],
          [
           "Snow Valley"
          ]
         ],
         "hovertemplate": "region=West Coast<br>skiable_acres=%{x}<br>annual_snowfall=%{y}<br>resort=%{customdata[0]}<extra></extra>",
         "legendgroup": "West Coast",
         "marker": {
          "color": "#EF553B",
          "symbol": "circle"
         },
         "mode": "markers",
         "name": "West Coast",
         "orientation": "v",
         "showlegend": true,
         "type": "scatter",
         "x": {
          "bdata": "cBfeEKwNKArQB8oH3AV4BaYCWALwAA==",
          "dtype": "i2"
         },
         "xaxis": "x",
         "y": {
          "bdata": "wgHOAZAB5gHgAawB+gCZAWQAqgGWAA==",
          "dtype": "i2"
         },
         "yaxis": "y"
        },
        {
         "customdata": [
          [
           "Big Sky"
          ],
          [
           "Sun Peaks Resort"
          ],
          [
           "Lake Louise"
          ],
          [
           "RED Mountain"
          ],
          [
           "Steamboat"
          ],
          [
           "Deer Valley"
          ],
          [
           "Snowmass"
          ],
          [
           "Banff Sunshine"
          ],
          [
           "Revelstoke"
          ],
          [
           "Winter Park"
          ],
          [
           "Snowbasin"
          ],
          [
           "Panorama"
          ],
          [
           "Schweitzer"
          ],
          [
           "Alta"
          ],
          [
           "Copper Mountain"
          ],
          [
           "Snowbird"
          ],
          [
           "Jackson Hole"
          ],
          [
           "Sun Valley"
          ],
          [
           "Arapahoe Basin"
          ],
          [
           "Taos"
          ],
          [
           "Solitude"
          ],
          [
           "Brighton"
          ],
          [
           "Aspen Highlands"
          ],
          [
           "Eldora Mountain"
          ],
          [
           "Aspen Mountain"
          ],
          [
           "Buttermilk"
          ],
          [
           "Norquay"
          ]
         ],
         "hovertemplate": "region=Rockies<br>skiable_acres=%{x}<br>annual_snowfall=%{y}<br>resort=%{customdata[0]}<extra></extra>",
         "legendgroup": "Rockies",
         "marker": {
          "color": "#00cc96",
          "symbol": "circle"
         },
         "mode": "markers",
         "name": "Rockies",
         "orientation": "v",
         "showlegend": true,
         "type": "scatter",
         "x": {
          "bdata": "2hauEGgQCg+dDnQOIg0eDTEMCQy4C58LVAs2CuoJxAnECQYIlAUOBbAEGgTyA6gCoQKzAb4A",
          "dtype": "i2"
         },
         "xaxis": "x",
         "y": {
          "bdata": "kAHtALMALAFQASwBLAFoAYoBPgFeAcwALAEhAjEB9AHLAdwAXgEsAfQB9AEsASwBLAHIAHYA",
          "dtype": "i2"
         },
         "yaxis": "y"
        },
        {
         "customdata": [
          [
           "Niseko United"
          ],
          [
           "Lotte Arai Resort"
          ]
         ],
         "hovertemplate": "region=Japan<br>skiable_acres=%{x}<br>annual_snowfall=%{y}<br>resort=%{customdata[0]}<extra></extra>",
         "legendgroup": "Japan",
         "marker": {
          "color": "#ab63fa",
          "symbol": "circle"
         },
         "mode": "markers",
         "name": "Japan",
         "orientation": "v",
         "showlegend": true,
         "type": "scatter",
         "x": {
          "bdata": "SQsRAg==",
          "dtype": "i2"
         },
         "xaxis": "x",
         "y": {
          "bdata": "TgJsAg==",
          "dtype": "i2"
         },
         "yaxis": "y"
        },
        {
         "customdata": [
          [
           "Valle Nevado"
          ]
         ],
         "hovertemplate": "region=South America<br>skiable_acres=%{x}<br>annual_snowfall=%{y}<br>resort=%{customdata[0]}<extra></extra>",
         "legendgroup": "South America",
         "marker": {
          "color": "#FFA15A",
          "symbol": "circle"
         },
         "mode": "markers",
         "name": "South America",
         "orientation": "v",
         "showlegend": true,
         "type": "scatter",
         "x": {
          "bdata": "mAg=",
          "dtype": "i2"
         },
         "xaxis": "x",
         "y": {
          "bdata": "RAE=",
          "dtype": "i2"
         },
         "yaxis": "y"
        },
        {
         "customdata": [
          [
           "Killington"
          ],
          [
           "Sugarloaf"
          ],
          [
           "Sunday River"
          ],
          [
           "Stratton"
          ],
          [
           "Tremblant"
          ],
          [
           "Sugarbush"
          ],
          [
           "Pico"
          ],
          [
           "Le Massif de Charlevoix"
          ],
          [
           "Loon Mountain"
          ],
          [
           "Cranmore"
          ],
          [
           "Jiminy Peak"
          ]
         ],
         "hovertemplate": "region=Northeast<br>skiable_acres=%{x}<br>annual_snowfall=%{y}<br>resort=%{customdata[0]}<extra></extra>",
         "legendgroup": "Northeast",
         "marker": {
          "color": "#19d3f3",
          "symbol": "circle"
         },
         "mode": "markers",
         "name": "Northeast",
         "orientation": "v",
         "showlegend": true,
         "type": "scatter",
         "x": {
          "bdata": "5QXYBGYDngJ2AkUC1AGWAXIBqgCnAA==",
          "dtype": "i2"
         },
         "xaxis": "x",
         "y": {
          "bdata": "+gDIAKcAtACyAPoA+gD8AKAAUABHAA==",
          "dtype": "i2"
         },
         "yaxis": "y"
        },
        {
         "customdata": [
          [
           "Thredbo"
          ],
          [
           "Mt Hutt"
          ],
          [
           "Mt Buller"
          ],
          [
           "Coronet Peak"
          ],
          [
           "The Remarkables"
          ]
         ],
         "hovertemplate": "region=Australia / New Zealand<br>skiable_acres=%{x}<br>annual_snowfall=%{y}<br>resort=%{customdata[0]}<extra></extra>",
         "legendgroup": "Australia / New Zealand",
         "marker": {
          "color": "#FF6692",
          "symbol": "circle"
         },
         "mode": "markers",
         "name": "Australia / New Zealand",
         "orientation": "v",
         "showlegend": true,
         "type": "scatter",
         "x": {
          "bdata": "ogSGA+UCswLcAA==",
          "dtype": "i2"
         },
         "xaxis": "x",
         "y": {
          "bdata": "UwCdAF8ATgCQAA==",
          "dtype": "i2"
         },
         "yaxis": "y"
        },
        {
         "customdata": [
          [
           "The Highlands"
          ],
          [
           "Boyne Mountain"
          ],
          [
           "Blue Mountain"
          ],
          [
           "Wild Mountain"
          ],
          [
           "Buck Hill"
          ]
         ],
         "hovertemplate": "region=Midwest<br>skiable_acres=%{x}<br>annual_snowfall=%{y}<br>resort=%{customdata[0]}<extra></extra>",
         "legendgroup": "Midwest",
         "marker": {
          "color": "#B6E880",
          "symbol": "circle"
         },
         "mode": "markers",
         "name": "Midwest",
         "orientation": "v",
         "showlegend": true,
         "type": "scatter",
         "x": {
          "bdata": "swGfAWwBZAAtAA==",
          "dtype": "i2"
         },
         "xaxis": "x",
         "y": {
          "bdata": "jACMAHgAKAA8AA==",
          "dtype": "i2"
         },
         "yaxis": "y"
        },
        {
         "customdata": [
          [
           "Snowshoe"
          ],
          [
           "Camelback Resort"
          ],
          [
           "Blue Mountain Resort"
          ]
         ],
         "hovertemplate": "region=Mid-Atlantic<br>skiable_acres=%{x}<br>annual_snowfall=%{y}<br>resort=%{customdata[0]}<extra></extra>",
         "legendgroup": "Mid-Atlantic",
         "marker": {
          "color": "#FF97FF",
          "symbol": "circle"
         },
         "mode": "markers",
         "name": "Mid-Atlantic",
         "orientation": "v",
         "showlegend": true,
         "type": "scatter",
         "x": {
          "bdata": "AQGmAKQA",
          "dtype": "i2"
         },
         "xaxis": "x",
         "y": {
          "bdata": "tAAyACEA",
          "dtype": "i2"
         },
         "yaxis": "y"
        }
       ],
       "layout": {
        "legend": {
         "title": {
          "text": "region"
         },
         "tracegroupgap": 0
        },
        "template": {
         "data": {
          "bar": [
           {
            "error_x": {
             "color": "#2a3f5f"
            },
            "error_y": {
             "color": "#2a3f5f"
            },
            "marker": {
             "line": {
              "color": "#E5ECF6",
              "width": 0.5
             },
             "pattern": {
              "fillmode": "overlay",
              "size": 10,
              "solidity": 0.2
             }
            },
            "type": "bar"
           }
          ],
          "barpolar": [
           {
            "marker": {
             "line": {
              "color": "#E5ECF6",
              "width": 0.5
             },
             "pattern": {
              "fillmode": "overlay",
              "size": 10,
              "solidity": 0.2
             }
            },
            "type": "barpolar"
           }
          ],
          "carpet": [
           {
            "aaxis": {
             "endlinecolor": "#2a3f5f",
             "gridcolor": "white",
             "linecolor": "white",
             "minorgridcolor": "white",
             "startlinecolor": "#2a3f5f"
            },
            "baxis": {
             "endlinecolor": "#2a3f5f",
             "gridcolor": "white",
             "linecolor": "white",
             "minorgridcolor": "white",
             "startlinecolor": "#2a3f5f"
            },
            "type": "carpet"
           }
          ],
          "choropleth": [
           {
            "colorbar": {
             "outlinewidth": 0,
             "ticks": ""
            },
            "type": "choropleth"
           }
          ],
          "contour": [
           {
            "colorbar": {
             "outlinewidth": 0,
             "ticks": ""
            },
            "colorscale": [
             [
              0,
              "#0d0887"
             ],
             [
              0.1111111111111111,
              "#46039f"
             ],
             [
              0.2222222222222222,
              "#7201a8"
             ],
             [
              0.3333333333333333,
              "#9c179e"
             ],
             [
              0.4444444444444444,
              "#bd3786"
             ],
             [
              0.5555555555555556,
              "#d8576b"
             ],
             [
              0.6666666666666666,
              "#ed7953"
             ],
             [
              0.7777777777777778,
              "#fb9f3a"
             ],
             [
              0.8888888888888888,
              "#fdca26"
             ],
             [
              1,
              "#f0f921"
             ]
            ],
            "type": "contour"
           }
          ],
          "contourcarpet": [
           {
            "colorbar": {
             "outlinewidth": 0,
             "ticks": ""
            },
            "type": "contourcarpet"
           }
          ],
          "heatmap": [
           {
            "colorbar": {
             "outlinewidth": 0,
             "ticks": ""
            },
            "colorscale": [
             [
              0,
              "#0d0887"
             ],
             [
              0.1111111111111111,
              "#46039f"
             ],
             [
              0.2222222222222222,
              "#7201a8"
             ],
             [
              0.3333333333333333,
              "#9c179e"
             ],
             [
              0.4444444444444444,
              "#bd3786"
             ],
             [
              0.5555555555555556,
              "#d8576b"
             ],
             [
              0.6666666666666666,
              "#ed7953"
             ],
             [
              0.7777777777777778,
              "#fb9f3a"
             ],
             [
              0.8888888888888888,
              "#fdca26"
             ],
             [
              1,
              "#f0f921"
             ]
            ],
            "type": "heatmap"
           }
          ],
          "histogram": [
           {
            "marker": {
             "pattern": {
              "fillmode": "overlay",
              "size": 10,
              "solidity": 0.2
             }
            },
            "type": "histogram"
           }
          ],
          "histogram2d": [
           {
            "colorbar": {
             "outlinewidth": 0,
             "ticks": ""
            },
            "colorscale": [
             [
              0,
              "#0d0887"
             ],
             [
              0.1111111111111111,
              "#46039f"
             ],
             [
              0.2222222222222222,
              "#7201a8"
             ],
             [
              0.3333333333333333,
              "#9c179e"
             ],
             [
              0.4444444444444444,
              "#bd3786"
             ],
             [
              0.5555555555555556,
              "#d8576b"
             ],
             [
              0.6666666666666666,
              "#ed7953"
             ],
             [
              0.7777777777777778,
              "#fb9f3a"
             ],
             [
              0.8888888888888888,
              "#fdca26"
             ],
             [
              1,
              "#f0f921"
             ]
            ],
            "type": "histogram2d"
           }
          ],
          "histogram2dcontour": [
           {
            "colorbar": {
             "outlinewidth": 0,
             "ticks": ""
            },
            "colorscale": [
             [
              0,
              "#0d0887"
             ],
             [
              0.1111111111111111,
              "#46039f"
             ],
             [
              0.2222222222222222,
              "#7201a8"
             ],
             [
              0.3333333333333333,
              "#9c179e"
             ],
             [
              0.4444444444444444,
              "#bd3786"
             ],
             [
              0.5555555555555556,
              "#d8576b"
             ],
             [
              0.6666666666666666,
              "#ed7953"
             ],
             [
              0.7777777777777778,
              "#fb9f3a"
             ],
             [
              0.8888888888888888,
              "#fdca26"
             ],
             [
              1,
              "#f0f921"
             ]
            ],
            "type": "histogram2dcontour"
           }
          ],
          "mesh3d": [
           {
            "colorbar": {
             "outlinewidth": 0,
             "ticks": ""
            },
            "type": "mesh3d"
           }
          ],
          "parcoords": [
           {
            "line": {
             "colorbar": {
              "outlinewidth": 0,
              "ticks": ""
             }
            },
            "type": "parcoords"
           }
          ],
          "pie": [
           {
            "automargin": true,
            "type": "pie"
           }
          ],
          "scatter": [
           {
            "fillpattern": {
             "fillmode": "overlay",
             "size": 10,
             "solidity": 0.2
            },
            "type": "scatter"
           }
          ],
          "scatter3d": [
           {
            "line": {
             "colorbar": {
              "outlinewidth": 0,
              "ticks": ""
             }
            },
            "marker": {
             "colorbar": {
              "outlinewidth": 0,
              "ticks": ""
             }
            },
            "type": "scatter3d"
           }
          ],
          "scattercarpet": [
           {
            "marker": {
             "colorbar": {
              "outlinewidth": 0,
              "ticks": ""
             }
            },
            "type": "scattercarpet"
           }
          ],
          "scattergeo": [
           {
            "marker": {
             "colorbar": {
              "outlinewidth": 0,
              "ticks": ""
             }
            },
            "type": "scattergeo"
           }
          ],
          "scattergl": [
           {
            "marker": {
             "colorbar": {
              "outlinewidth": 0,
              "ticks": ""
             }
            },
            "type": "scattergl"
           }
          ],
          "scattermap": [
           {
            "marker": {
             "colorbar": {
              "outlinewidth": 0,
              "ticks": ""
             }
            },
            "type": "scattermap"
           }
          ],
          "scattermapbox": [
           {
            "marker": {
             "colorbar": {
              "outlinewidth": 0,
              "ticks": ""
             }
            },
            "type": "scattermapbox"
           }
          ],
          "scatterpolar": [
           {
            "marker": {
             "colorbar": {
              "outlinewidth": 0,
              "ticks": ""
             }
            },
            "type": "scatterpolar"
           }
          ],
          "scatterpolargl": [
           {
            "marker": {
             "colorbar": {
              "outlinewidth": 0,
              "ticks": ""
             }
            },
            "type": "scatterpolargl"
           }
          ],
          "scatterternary": [
           {
            "marker": {
             "colorbar": {
              "outlinewidth": 0,
              "ticks": ""
             }
            },
            "type": "scatterternary"
           }
          ],
          "surface": [
           {
            "colorbar": {
             "outlinewidth": 0,
             "ticks": ""
            },
            "colorscale": [
             [
              0,
              "#0d0887"
             ],
             [
              0.1111111111111111,
              "#46039f"
             ],
             [
              0.2222222222222222,
              "#7201a8"
             ],
             [
              0.3333333333333333,
              "#9c179e"
             ],
             [
              0.4444444444444444,
              "#bd3786"
             ],
             [
              0.5555555555555556,
              "#d8576b"
             ],
             [
              0.6666666666666666,
              "#ed7953"
             ],
             [
              0.7777777777777778,
              "#fb9f3a"
             ],
             [
              0.8888888888888888,
              "#fdca26"
             ],
             [
              1,
              "#f0f921"
             ]
            ],
            "type": "surface"
           }
          ],
          "table": [
           {
            "cells": {
             "fill": {
              "color": "#EBF0F8"
             },
             "line": {
              "color": "white"
             }
            },
            "header": {
             "fill": {
              "color": "#C8D4E3"
             },
             "line": {
              "color": "white"
             }
            },
            "type": "table"
           }
          ]
         },
         "layout": {
          "annotationdefaults": {
           "arrowcolor": "#2a3f5f",
           "arrowhead": 0,
           "arrowwidth": 1
          },
          "autotypenumbers": "strict",
          "coloraxis": {
           "colorbar": {
            "outlinewidth": 0,
            "ticks": ""
           }
          },
          "colorscale": {
           "diverging": [
            [
             0,
             "#8e0152"
            ],
            [
             0.1,
             "#c51b7d"
            ],
            [
             0.2,
             "#de77ae"
            ],
            [
             0.3,
             "#f1b6da"
            ],
            [
             0.4,
             "#fde0ef"
            ],
            [
             0.5,
             "#f7f7f7"
            ],
            [
             0.6,
             "#e6f5d0"
            ],
            [
             0.7,
             "#b8e186"
            ],
            [
             0.8,
             "#7fbc41"
            ],
            [
             0.9,
             "#4d9221"
            ],
            [
             1,
             "#276419"
            ]
           ],
           "sequential": [
            [
             0,
             "#0d0887"
            ],
            [
             0.1111111111111111,
             "#46039f"
            ],
            [
             0.2222222222222222,
             "#7201a8"
            ],
            [
             0.3333333333333333,
             "#9c179e"
            ],
            [
             0.4444444444444444,
             "#bd3786"
            ],
            [
             0.5555555555555556,
             "#d8576b"
            ],
            [
             0.6666666666666666,
             "#ed7953"
            ],
            [
             0.7777777777777778,
             "#fb9f3a"
            ],
            [
             0.8888888888888888,
             "#fdca26"
            ],
            [
             1,
             "#f0f921"
            ]
           ],
           "sequentialminus": [
            [
             0,
             "#0d0887"
            ],
            [
             0.1111111111111111,
             "#46039f"
            ],
            [
             0.2222222222222222,
             "#7201a8"
            ],
            [
             0.3333333333333333,
             "#9c179e"
            ],
            [
             0.4444444444444444,
             "#bd3786"
            ],
            [
             0.5555555555555556,
             "#d8576b"
            ],
            [
             0.6666666666666666,
             "#ed7953"
            ],
            [
             0.7777777777777778,
             "#fb9f3a"
            ],
            [
             0.8888888888888888,
             "#fdca26"
            ],
            [
             1,
             "#f0f921"
            ]
           ]
          },
          "colorway": [
           "#636efa",
           "#EF553B",
           "#00cc96",
           "#ab63fa",
           "#FFA15A",
           "#19d3f3",
           "#FF6692",
           "#B6E880",
           "#FF97FF",
           "#FECB52"
          ],
          "font": {
           "color": "#2a3f5f"
          },
          "geo": {
           "bgcolor": "white",
           "lakecolor": "white",
           "landcolor": "#E5ECF6",
           "showlakes": true,
           "showland": true,
           "subunitcolor": "white"
          },
          "hoverlabel": {
           "align": "left"
          },
          "hovermode": "closest",
          "mapbox": {
           "style": "light"
          },
          "paper_bgcolor": "white",
          "plot_bgcolor": "#E5ECF6",
          "polar": {
           "angularaxis": {
            "gridcolor": "white",
            "linecolor": "white",
            "ticks": ""
           },
           "bgcolor": "#E5ECF6",
           "radialaxis": {
            "gridcolor": "white",
            "linecolor": "white",
            "ticks": ""
           }
          },
          "scene": {
           "xaxis": {
            "backgroundcolor": "#E5ECF6",
            "gridcolor": "white",
            "gridwidth": 2,
            "linecolor": "white",
            "showbackground": true,
            "ticks": "",
            "zerolinecolor": "white"
           },
           "yaxis": {
            "backgroundcolor": "#E5ECF6",
            "gridcolor": "white",
            "gridwidth": 2,
            "linecolor": "white",
            "showbackground": true,
            "ticks": "",
            "zerolinecolor": "white"
           },
           "zaxis": {
            "backgroundcolor": "#E5ECF6",
            "gridcolor": "white",
            "gridwidth": 2,
            "linecolor": "white",
            "showbackground": true,
            "ticks": "",
            "zerolinecolor": "white"
           }
          },
          "shapedefaults": {
           "line": {
            "color": "#2a3f5f"
           }
          },
          "ternary": {
           "aaxis": {
            "gridcolor": "white",
            "linecolor": "white",
            "ticks": ""
           },
           "baxis": {
            "gridcolor": "white",
            "linecolor": "white",
            "ticks": ""
           },
           "bgcolor": "#E5ECF6",
           "caxis": {
            "gridcolor": "white",
            "linecolor": "white",
            "ticks": ""
           }
          },
          "title": {
           "x": 0.05
          },
          "xaxis": {
           "automargin": true,
           "gridcolor": "white",
           "linecolor": "white",
           "ticks": "",
           "title": {
            "standoff": 15
           },
           "zerolinecolor": "white",
           "zerolinewidth": 2
          },
          "yaxis": {
           "automargin": true,
           "gridcolor": "white",
           "linecolor": "white",
           "ticks": "",
           "title": {
            "standoff": 15
           },
           "zerolinecolor": "white",
           "zerolinewidth": 2
          }
         }
        },
        "title": {
         "text": "Resorts by Skiable Acres and Annual Snowfall"
        },
        "xaxis": {
         "anchor": "y",
         "domain": [
          0,
          1
         ],
         "title": {
          "text": "skiable_acres"
         }
        },
        "yaxis": {
         "anchor": "x",
         "domain": [
          0,
          1
         ],
         "title": {
          "text": "annual_snowfall"
         }
        }
       }
      }
     },
     "metadata": {},
     "output_type": "display_data"
    }
   ],
   "source": [
    "sorted_locations = locations.sort_values('skiable_acres', ascending=False)\n",
    "fig = px.scatter(\n",
    "    sorted_locations,\n",
    "    x='skiable_acres',\n",
    "    y='annual_snowfall',\n",
    "    color='region',\n",
    "    title='Resorts by Skiable Acres and Annual Snowfall',\n",
    "    category_orders={'resort': sorted_locations['resort'].tolist()},\n",
    "    hover_data=['resort', 'annual_snowfall', 'skiable_acres']\n",
    ")\n",
    "fig.show()"
   ]
  },
  {
   "cell_type": "markdown",
   "id": "0bae85b2",
   "metadata": {},
   "source": [
    "# To do"
   ]
  },
  {
   "cell_type": "markdown",
   "id": "fe6ef949",
   "metadata": {},
   "source": []
  }
 ],
 "metadata": {
  "kernelspec": {
   "display_name": "Python (ikon_kindred_env)",
   "language": "python",
   "name": "ikon_kindred_env"
  },
  "language_info": {
   "codemirror_mode": {
    "name": "ipython",
    "version": 3
   },
   "file_extension": ".py",
   "mimetype": "text/x-python",
   "name": "python",
   "nbconvert_exporter": "python",
   "pygments_lexer": "ipython3",
   "version": "3.13.7"
  }
 },
 "nbformat": 4,
 "nbformat_minor": 5
}
